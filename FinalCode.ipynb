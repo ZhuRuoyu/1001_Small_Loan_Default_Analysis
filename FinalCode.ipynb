{
 "cells": [
  {
   "cell_type": "markdown",
   "metadata": {},
   "source": [
    "# FICO Challenge - Explainable machine learning model \n",
    "    - Interpreting black box algorithms\n",
    "    - how to do cost-benefit analysis? \n",
    ">**Goal**\n",
    "\n",
    "> **Methodology** “You can set it up as an exploration of explainable models (i.e., sparse linear models) vs black box models (i.e., neural nets or random forests). Testing both and measuring the tradeoff (i.e., what is the cost of explainability) would make for a good analysis. Also, I'll definitely consider extra points if you could implement a system like this.””"
   ]
  },
  {
   "cell_type": "code",
   "execution_count": 4,
   "metadata": {},
   "outputs": [
    {
     "name": "stderr",
     "output_type": "stream",
     "text": [
      "/anaconda/lib/python3.6/site-packages/statsmodels/compat/pandas.py:56: FutureWarning: The pandas.core.datetools module is deprecated and will be removed in a future version. Please use the pandas.tseries module instead.\n",
      "  from pandas.core import datetools\n"
     ]
    }
   ],
   "source": [
    "# Eva\n",
    "import pandas as pd\n",
    "import numpy as np\n",
    "import sklearn\n",
    "from sklearn import preprocessing\n",
    "import statistics\n",
    "import matplotlib\n",
    "import matplotlib.pyplot as plt\n",
    "import seaborn as sns\n",
    "from sklearn.metrics import confusion_matrix, roc_auc_score,roc_curve, auc,accuracy_score\n",
    "from sklearn import linear_model,svm\n",
    "import statsmodels.api as sm\n",
    "from sklearn.model_selection import GridSearchCV\n",
    "from sklearn.model_selection import cross_val_score, KFold\n",
    "from sklearn.neighbors import KNeighborsClassifier  \n",
    "from sklearn.model_selection import train_test_split \n",
    "from sklearn.metrics import classification_report\n",
    "from sklearn.preprocessing import StandardScaler\n",
    "import warnings\n",
    "warnings.filterwarnings('ignore')"
   ]
  },
  {
   "cell_type": "markdown",
   "metadata": {},
   "source": [
    "## Read and clean data"
   ]
  },
  {
   "cell_type": "code",
   "execution_count": 5,
   "metadata": {
    "collapsed": true
   },
   "outputs": [],
   "source": [
    "# Eva - Data dictionary\n",
    "df_dic = pd.read_excel('heloc_data_dictionary.xlsx', sheet_name='Data Dictionary')"
   ]
  },
  {
   "cell_type": "code",
   "execution_count": 6,
   "metadata": {},
   "outputs": [
    {
     "name": "stdout",
     "output_type": "stream",
     "text": [
      "(10459, 24)\n"
     ]
    },
    {
     "data": {
      "text/html": [
       "<div>\n",
       "<style>\n",
       "    .dataframe thead tr:only-child th {\n",
       "        text-align: right;\n",
       "    }\n",
       "\n",
       "    .dataframe thead th {\n",
       "        text-align: left;\n",
       "    }\n",
       "\n",
       "    .dataframe tbody tr th {\n",
       "        vertical-align: top;\n",
       "    }\n",
       "</style>\n",
       "<table border=\"1\" class=\"dataframe\">\n",
       "  <thead>\n",
       "    <tr style=\"text-align: right;\">\n",
       "      <th></th>\n",
       "      <th>RiskPerformance</th>\n",
       "      <th>ExternalRiskEstimate</th>\n",
       "      <th>MSinceOldestTradeOpen</th>\n",
       "      <th>MSinceMostRecentTradeOpen</th>\n",
       "      <th>AverageMInFile</th>\n",
       "      <th>NumSatisfactoryTrades</th>\n",
       "      <th>NumTrades60Ever2DerogPubRec</th>\n",
       "      <th>NumTrades90Ever2DerogPubRec</th>\n",
       "      <th>PercentTradesNeverDelq</th>\n",
       "      <th>MSinceMostRecentDelq</th>\n",
       "      <th>...</th>\n",
       "      <th>PercentInstallTrades</th>\n",
       "      <th>MSinceMostRecentInqexcl7days</th>\n",
       "      <th>NumInqLast6M</th>\n",
       "      <th>NumInqLast6Mexcl7days</th>\n",
       "      <th>NetFractionRevolvingBurden</th>\n",
       "      <th>NetFractionInstallBurden</th>\n",
       "      <th>NumRevolvingTradesWBalance</th>\n",
       "      <th>NumInstallTradesWBalance</th>\n",
       "      <th>NumBank2NatlTradesWHighUtilization</th>\n",
       "      <th>PercentTradesWBalance</th>\n",
       "    </tr>\n",
       "  </thead>\n",
       "  <tbody>\n",
       "    <tr>\n",
       "      <th>0</th>\n",
       "      <td>Bad</td>\n",
       "      <td>55</td>\n",
       "      <td>144</td>\n",
       "      <td>4</td>\n",
       "      <td>84</td>\n",
       "      <td>20</td>\n",
       "      <td>3</td>\n",
       "      <td>0</td>\n",
       "      <td>83</td>\n",
       "      <td>2</td>\n",
       "      <td>...</td>\n",
       "      <td>43</td>\n",
       "      <td>0</td>\n",
       "      <td>0</td>\n",
       "      <td>0</td>\n",
       "      <td>33</td>\n",
       "      <td>-8</td>\n",
       "      <td>8</td>\n",
       "      <td>1</td>\n",
       "      <td>1</td>\n",
       "      <td>69</td>\n",
       "    </tr>\n",
       "    <tr>\n",
       "      <th>1</th>\n",
       "      <td>Bad</td>\n",
       "      <td>61</td>\n",
       "      <td>58</td>\n",
       "      <td>15</td>\n",
       "      <td>41</td>\n",
       "      <td>2</td>\n",
       "      <td>4</td>\n",
       "      <td>4</td>\n",
       "      <td>100</td>\n",
       "      <td>-7</td>\n",
       "      <td>...</td>\n",
       "      <td>67</td>\n",
       "      <td>0</td>\n",
       "      <td>0</td>\n",
       "      <td>0</td>\n",
       "      <td>0</td>\n",
       "      <td>-8</td>\n",
       "      <td>0</td>\n",
       "      <td>-8</td>\n",
       "      <td>-8</td>\n",
       "      <td>0</td>\n",
       "    </tr>\n",
       "    <tr>\n",
       "      <th>2</th>\n",
       "      <td>Bad</td>\n",
       "      <td>67</td>\n",
       "      <td>66</td>\n",
       "      <td>5</td>\n",
       "      <td>24</td>\n",
       "      <td>9</td>\n",
       "      <td>0</td>\n",
       "      <td>0</td>\n",
       "      <td>100</td>\n",
       "      <td>-7</td>\n",
       "      <td>...</td>\n",
       "      <td>44</td>\n",
       "      <td>0</td>\n",
       "      <td>4</td>\n",
       "      <td>4</td>\n",
       "      <td>53</td>\n",
       "      <td>66</td>\n",
       "      <td>4</td>\n",
       "      <td>2</td>\n",
       "      <td>1</td>\n",
       "      <td>86</td>\n",
       "    </tr>\n",
       "    <tr>\n",
       "      <th>3</th>\n",
       "      <td>Bad</td>\n",
       "      <td>66</td>\n",
       "      <td>169</td>\n",
       "      <td>1</td>\n",
       "      <td>73</td>\n",
       "      <td>28</td>\n",
       "      <td>1</td>\n",
       "      <td>1</td>\n",
       "      <td>93</td>\n",
       "      <td>76</td>\n",
       "      <td>...</td>\n",
       "      <td>57</td>\n",
       "      <td>0</td>\n",
       "      <td>5</td>\n",
       "      <td>4</td>\n",
       "      <td>72</td>\n",
       "      <td>83</td>\n",
       "      <td>6</td>\n",
       "      <td>4</td>\n",
       "      <td>3</td>\n",
       "      <td>91</td>\n",
       "    </tr>\n",
       "    <tr>\n",
       "      <th>4</th>\n",
       "      <td>Bad</td>\n",
       "      <td>81</td>\n",
       "      <td>333</td>\n",
       "      <td>27</td>\n",
       "      <td>132</td>\n",
       "      <td>12</td>\n",
       "      <td>0</td>\n",
       "      <td>0</td>\n",
       "      <td>100</td>\n",
       "      <td>-7</td>\n",
       "      <td>...</td>\n",
       "      <td>25</td>\n",
       "      <td>0</td>\n",
       "      <td>1</td>\n",
       "      <td>1</td>\n",
       "      <td>51</td>\n",
       "      <td>89</td>\n",
       "      <td>3</td>\n",
       "      <td>1</td>\n",
       "      <td>0</td>\n",
       "      <td>80</td>\n",
       "    </tr>\n",
       "  </tbody>\n",
       "</table>\n",
       "<p>5 rows × 24 columns</p>\n",
       "</div>"
      ],
      "text/plain": [
       "  RiskPerformance  ExternalRiskEstimate  MSinceOldestTradeOpen  \\\n",
       "0             Bad                    55                    144   \n",
       "1             Bad                    61                     58   \n",
       "2             Bad                    67                     66   \n",
       "3             Bad                    66                    169   \n",
       "4             Bad                    81                    333   \n",
       "\n",
       "   MSinceMostRecentTradeOpen  AverageMInFile  NumSatisfactoryTrades  \\\n",
       "0                          4              84                     20   \n",
       "1                         15              41                      2   \n",
       "2                          5              24                      9   \n",
       "3                          1              73                     28   \n",
       "4                         27             132                     12   \n",
       "\n",
       "   NumTrades60Ever2DerogPubRec  NumTrades90Ever2DerogPubRec  \\\n",
       "0                            3                            0   \n",
       "1                            4                            4   \n",
       "2                            0                            0   \n",
       "3                            1                            1   \n",
       "4                            0                            0   \n",
       "\n",
       "   PercentTradesNeverDelq  MSinceMostRecentDelq          ...            \\\n",
       "0                      83                     2          ...             \n",
       "1                     100                    -7          ...             \n",
       "2                     100                    -7          ...             \n",
       "3                      93                    76          ...             \n",
       "4                     100                    -7          ...             \n",
       "\n",
       "   PercentInstallTrades  MSinceMostRecentInqexcl7days  NumInqLast6M  \\\n",
       "0                    43                             0             0   \n",
       "1                    67                             0             0   \n",
       "2                    44                             0             4   \n",
       "3                    57                             0             5   \n",
       "4                    25                             0             1   \n",
       "\n",
       "   NumInqLast6Mexcl7days  NetFractionRevolvingBurden  \\\n",
       "0                      0                          33   \n",
       "1                      0                           0   \n",
       "2                      4                          53   \n",
       "3                      4                          72   \n",
       "4                      1                          51   \n",
       "\n",
       "   NetFractionInstallBurden  NumRevolvingTradesWBalance  \\\n",
       "0                        -8                           8   \n",
       "1                        -8                           0   \n",
       "2                        66                           4   \n",
       "3                        83                           6   \n",
       "4                        89                           3   \n",
       "\n",
       "   NumInstallTradesWBalance  NumBank2NatlTradesWHighUtilization  \\\n",
       "0                         1                                   1   \n",
       "1                        -8                                  -8   \n",
       "2                         2                                   1   \n",
       "3                         4                                   3   \n",
       "4                         1                                   0   \n",
       "\n",
       "   PercentTradesWBalance  \n",
       "0                     69  \n",
       "1                      0  \n",
       "2                     86  \n",
       "3                     91  \n",
       "4                     80  \n",
       "\n",
       "[5 rows x 24 columns]"
      ]
     },
     "execution_count": 6,
     "metadata": {},
     "output_type": "execute_result"
    }
   ],
   "source": [
    "# Eva - Read in data\n",
    "df = pd.read_csv('heloc_dataset.csv')\n",
    "print(df.shape)\n",
    "df.head() "
   ]
  },
  {
   "cell_type": "markdown",
   "metadata": {},
   "source": [
    "### Data Preprocessing"
   ]
  },
  {
   "cell_type": "code",
   "execution_count": 7,
   "metadata": {},
   "outputs": [
    {
     "name": "stdout",
     "output_type": "stream",
     "text": [
      "number of missing values:  0\n",
      "Bad     5459\n",
      "Good    5000\n",
      "Name: RiskPerformance, dtype: int64\n"
     ]
    }
   ],
   "source": [
    "#Eva -\n",
    "# Check for missing values\n",
    "print(\"number of missing values: \",sum(df.isnull().values.ravel()))\n",
    "print(df['RiskPerformance'].value_counts())"
   ]
  },
  {
   "cell_type": "code",
   "execution_count": 8,
   "metadata": {
    "collapsed": true
   },
   "outputs": [],
   "source": [
    "#Eva\n",
    "# Recoding target variables\n",
    "df['target'] = np.where(df['RiskPerformance']== \"Bad\", 1, 0)\n",
    "df.target.value_counts()\n",
    "df = df.drop('RiskPerformance',1)"
   ]
  },
  {
   "cell_type": "code",
   "execution_count": 9,
   "metadata": {},
   "outputs": [
    {
     "name": "stdout",
     "output_type": "stream",
     "text": [
      "The number of original data: 10459\n",
      "The number of missing data: 588\n",
      "The number of cleaned data: 9871\n",
      "1    5136\n",
      "0    4735\n",
      "Name: target, dtype: int64\n",
      "\n",
      "0.479687974876\n",
      "0.520312025124\n"
     ]
    }
   ],
   "source": [
    "# SunJoo\n",
    "# Dealing with special value -9: Omit samples without any credit history\n",
    "cleaned = df[df.MSinceMostRecentInqexcl7days != -9]\n",
    "\n",
    "print('The number of original data:',len(df))\n",
    "print('The number of missing data:',len(df)-len(cleaned))\n",
    "print('The number of cleaned data:',len(cleaned))\n",
    "\n",
    "print(cleaned.target.value_counts())\n",
    "\n",
    "numBad = cleaned.target.value_counts()[0]\n",
    "numGood = cleaned.target.value_counts()[1]\n",
    "print()\n",
    "print(numBad/len(cleaned))\n",
    "print(numGood/len(cleaned))"
   ]
  },
  {
   "cell_type": "code",
   "execution_count": 10,
   "metadata": {},
   "outputs": [
    {
     "data": {
      "text/plain": [
       "ExternalRiskEstimate                 -9.0\n",
       "MSinceOldestTradeOpen                -8.0\n",
       "MSinceMostRecentTradeOpen             0.0\n",
       "AverageMInFile                        4.0\n",
       "NumSatisfactoryTrades                 0.0\n",
       "NumTrades60Ever2DerogPubRec           0.0\n",
       "NumTrades90Ever2DerogPubRec           0.0\n",
       "PercentTradesNeverDelq                0.0\n",
       "MSinceMostRecentDelq                 -8.0\n",
       "MaxDelq2PublicRecLast12M              0.0\n",
       "MaxDelqEver                           0.0\n",
       "NumTotalTrades                        0.0\n",
       "NumTradesOpeninLast12M                0.0\n",
       "PercentInstallTrades                  0.0\n",
       "MSinceMostRecentInqexcl7days         -8.0\n",
       "NumInqLast6M                          0.0\n",
       "NumInqLast6Mexcl7days                 0.0\n",
       "NetFractionRevolvingBurden           -8.0\n",
       "NetFractionInstallBurden             -8.0\n",
       "NumRevolvingTradesWBalance           -8.0\n",
       "NumInstallTradesWBalance             -8.0\n",
       "NumBank2NatlTradesWHighUtilization   -8.0\n",
       "PercentTradesWBalance                -8.0\n",
       "target                                0.0\n",
       "Name: min, dtype: float64"
      ]
     },
     "execution_count": 10,
     "metadata": {},
     "output_type": "execute_result"
    }
   ],
   "source": [
    "#Ruoyu\n",
    "# Dealing with special value :reorder categorical features: MaxDelq2PublicRecLast12M and MaxDelqEver\n",
    "df = cleaned\n",
    "df['MaxDelq2PublicRecLast12M'] = df['MaxDelq2PublicRecLast12M'].replace([6,7,8,9], [5,6,7,7])\n",
    "df['MaxDelqEver'] = df['MaxDelqEver'].replace([1,2,3,4,5,6,7,8,9], [7,0,1,2,3,4,6,5,7])\n",
    "des = df.describe()\n",
    "des.iloc[3] # check min for every cols\n",
    "#only ExternalRiskEstimate has -9 value"
   ]
  },
  {
   "cell_type": "code",
   "execution_count": 11,
   "metadata": {
    "collapsed": true
   },
   "outputs": [],
   "source": [
    "# Ruoyu\n",
    "#dealing with ExternalRiskEstimate = -9 use linear regression \n",
    "    #train =  ExternalRiskEstimate != -9\n",
    "    #test = ExternalRiskEstimate = -9\n",
    "\n",
    "train_External = df[df['ExternalRiskEstimate'] != -9]\n",
    "test_External = df[df['ExternalRiskEstimate'] == -9]\n",
    "\n",
    "X_train_External = train_External.drop(train_External.columns[0],axis=1)\n",
    "Y_train_External = train_External['ExternalRiskEstimate']\n",
    "X_test_External = test_External.drop(test_External.columns[0],axis=1)\n",
    "Y_test_External = test_External['ExternalRiskEstimate']\n",
    "\n",
    "regr = linear_model.LinearRegression()\n",
    "regr.fit(X_train_External, Y_train_External)\n",
    "Y_pred_External = regr.predict(X_test_External)\n",
    "Y_pred_External = Y_pred_External.astype(int)\n",
    "\n",
    "#combine train_External and predict_External\n",
    "Y_pred_External = pd.DataFrame({'ExternalRiskEstimate':Y_pred_External},index = [89,639,2662,4133,6522,7851,8721,8771,8921,9176])\n",
    "neg_External = pd.concat([Y_pred_External, X_test_External], axis=1)\n",
    "\n",
    "#combine train and test\n",
    "cleaned_neg9 = pd.concat([neg_External,train_External])\n",
    "df = cleaned_neg9"
   ]
  },
  {
   "cell_type": "code",
   "execution_count": 12,
   "metadata": {
    "collapsed": true
   },
   "outputs": [],
   "source": [
    "# Ruoyu\n",
    "# Dealing with special -8 use KNN = 5 to replace special value -8\n",
    "des = df.describe()\n",
    "des.iloc[3]\n",
    "col_index = np.array([1, 8, 14,17,18,19,20,21,22])\n",
    "col_name = np.array(['MSinceOldestTradeOpen', 'MSinceMostRecentDelq', 'MSinceMostRecentInqexcl7days', \n",
    "                     'NetFractionRevolvingBurden','NetFractionInstallBurden','NumRevolvingTradesWBalance',\n",
    "                     'NumInstallTradesWBalance','NumBank2NatlTradesWHighUtilization','PercentTradesWBalance'])\n",
    "zipped = zip(col_index,col_name)"
   ]
  },
  {
   "cell_type": "code",
   "execution_count": 13,
   "metadata": {},
   "outputs": [
    {
     "data": {
      "text/html": [
       "<div>\n",
       "<style>\n",
       "    .dataframe thead tr:only-child th {\n",
       "        text-align: right;\n",
       "    }\n",
       "\n",
       "    .dataframe thead th {\n",
       "        text-align: left;\n",
       "    }\n",
       "\n",
       "    .dataframe tbody tr th {\n",
       "        vertical-align: top;\n",
       "    }\n",
       "</style>\n",
       "<table border=\"1\" class=\"dataframe\">\n",
       "  <thead>\n",
       "    <tr style=\"text-align: right;\">\n",
       "      <th></th>\n",
       "      <th>PercentTradesWBalance</th>\n",
       "      <th>NumBank2NatlTradesWHighUtilization</th>\n",
       "      <th>NumInstallTradesWBalance</th>\n",
       "      <th>NumRevolvingTradesWBalance</th>\n",
       "      <th>NetFractionInstallBurden</th>\n",
       "      <th>NetFractionRevolvingBurden</th>\n",
       "      <th>MSinceMostRecentInqexcl7days</th>\n",
       "      <th>MSinceMostRecentDelq</th>\n",
       "      <th>MSinceOldestTradeOpen</th>\n",
       "      <th>ExternalRiskEstimate</th>\n",
       "      <th>...</th>\n",
       "      <th>NumTrades90Ever2DerogPubRec</th>\n",
       "      <th>PercentTradesNeverDelq</th>\n",
       "      <th>MaxDelq2PublicRecLast12M</th>\n",
       "      <th>MaxDelqEver</th>\n",
       "      <th>NumTotalTrades</th>\n",
       "      <th>NumTradesOpeninLast12M</th>\n",
       "      <th>PercentInstallTrades</th>\n",
       "      <th>NumInqLast6M</th>\n",
       "      <th>NumInqLast6Mexcl7days</th>\n",
       "      <th>target</th>\n",
       "    </tr>\n",
       "  </thead>\n",
       "  <tbody>\n",
       "    <tr>\n",
       "      <th>count</th>\n",
       "      <td>9871.000000</td>\n",
       "      <td>9871.000000</td>\n",
       "      <td>9871.000000</td>\n",
       "      <td>9871.000000</td>\n",
       "      <td>9871.000000</td>\n",
       "      <td>9871.000000</td>\n",
       "      <td>9871.000000</td>\n",
       "      <td>9871.000000</td>\n",
       "      <td>9871.000000</td>\n",
       "      <td>9871.000000</td>\n",
       "      <td>...</td>\n",
       "      <td>9871.000000</td>\n",
       "      <td>9871.000000</td>\n",
       "      <td>9871.000000</td>\n",
       "      <td>9871.000000</td>\n",
       "      <td>9871.000000</td>\n",
       "      <td>9871.000000</td>\n",
       "      <td>9871.000000</td>\n",
       "      <td>9871.000000</td>\n",
       "      <td>9871.000000</td>\n",
       "      <td>9871.000000</td>\n",
       "    </tr>\n",
       "    <tr>\n",
       "      <th>mean</th>\n",
       "      <td>66.451829</td>\n",
       "      <td>1.046905</td>\n",
       "      <td>2.381724</td>\n",
       "      <td>4.056124</td>\n",
       "      <td>57.726573</td>\n",
       "      <td>34.536420</td>\n",
       "      <td>0.491440</td>\n",
       "      <td>7.729511</td>\n",
       "      <td>198.809340</td>\n",
       "      <td>72.066559</td>\n",
       "      <td>...</td>\n",
       "      <td>0.384763</td>\n",
       "      <td>92.359943</td>\n",
       "      <td>5.012157</td>\n",
       "      <td>3.928781</td>\n",
       "      <td>22.635498</td>\n",
       "      <td>1.863844</td>\n",
       "      <td>34.618681</td>\n",
       "      <td>1.455982</td>\n",
       "      <td>1.397123</td>\n",
       "      <td>0.520312</td>\n",
       "    </tr>\n",
       "    <tr>\n",
       "      <th>std</th>\n",
       "      <td>22.060938</td>\n",
       "      <td>1.509151</td>\n",
       "      <td>1.606461</td>\n",
       "      <td>3.021385</td>\n",
       "      <td>28.961441</td>\n",
       "      <td>28.904505</td>\n",
       "      <td>5.635815</td>\n",
       "      <td>20.711009</td>\n",
       "      <td>98.019442</td>\n",
       "      <td>9.879350</td>\n",
       "      <td>...</td>\n",
       "      <td>0.993223</td>\n",
       "      <td>11.772876</td>\n",
       "      <td>1.292741</td>\n",
       "      <td>1.489066</td>\n",
       "      <td>12.999924</td>\n",
       "      <td>1.828099</td>\n",
       "      <td>17.953432</td>\n",
       "      <td>2.136161</td>\n",
       "      <td>2.096102</td>\n",
       "      <td>0.499613</td>\n",
       "    </tr>\n",
       "    <tr>\n",
       "      <th>min</th>\n",
       "      <td>0.000000</td>\n",
       "      <td>0.000000</td>\n",
       "      <td>1.000000</td>\n",
       "      <td>0.000000</td>\n",
       "      <td>0.000000</td>\n",
       "      <td>0.000000</td>\n",
       "      <td>-7.000000</td>\n",
       "      <td>-7.000000</td>\n",
       "      <td>2.000000</td>\n",
       "      <td>33.000000</td>\n",
       "      <td>...</td>\n",
       "      <td>0.000000</td>\n",
       "      <td>0.000000</td>\n",
       "      <td>0.000000</td>\n",
       "      <td>0.000000</td>\n",
       "      <td>0.000000</td>\n",
       "      <td>0.000000</td>\n",
       "      <td>0.000000</td>\n",
       "      <td>0.000000</td>\n",
       "      <td>0.000000</td>\n",
       "      <td>0.000000</td>\n",
       "    </tr>\n",
       "    <tr>\n",
       "      <th>25%</th>\n",
       "      <td>50.000000</td>\n",
       "      <td>0.000000</td>\n",
       "      <td>1.000000</td>\n",
       "      <td>2.000000</td>\n",
       "      <td>35.000000</td>\n",
       "      <td>8.000000</td>\n",
       "      <td>0.000000</td>\n",
       "      <td>-7.000000</td>\n",
       "      <td>133.000000</td>\n",
       "      <td>64.000000</td>\n",
       "      <td>...</td>\n",
       "      <td>0.000000</td>\n",
       "      <td>89.000000</td>\n",
       "      <td>5.000000</td>\n",
       "      <td>4.000000</td>\n",
       "      <td>13.000000</td>\n",
       "      <td>0.000000</td>\n",
       "      <td>21.000000</td>\n",
       "      <td>0.000000</td>\n",
       "      <td>0.000000</td>\n",
       "      <td>0.000000</td>\n",
       "    </tr>\n",
       "    <tr>\n",
       "      <th>50%</th>\n",
       "      <td>67.000000</td>\n",
       "      <td>1.000000</td>\n",
       "      <td>2.000000</td>\n",
       "      <td>3.000000</td>\n",
       "      <td>61.000000</td>\n",
       "      <td>29.000000</td>\n",
       "      <td>0.000000</td>\n",
       "      <td>1.000000</td>\n",
       "      <td>184.000000</td>\n",
       "      <td>72.000000</td>\n",
       "      <td>...</td>\n",
       "      <td>0.000000</td>\n",
       "      <td>97.000000</td>\n",
       "      <td>5.000000</td>\n",
       "      <td>4.000000</td>\n",
       "      <td>21.000000</td>\n",
       "      <td>1.000000</td>\n",
       "      <td>33.000000</td>\n",
       "      <td>1.000000</td>\n",
       "      <td>1.000000</td>\n",
       "      <td>1.000000</td>\n",
       "    </tr>\n",
       "    <tr>\n",
       "      <th>75%</th>\n",
       "      <td>83.000000</td>\n",
       "      <td>2.000000</td>\n",
       "      <td>3.000000</td>\n",
       "      <td>5.000000</td>\n",
       "      <td>82.000000</td>\n",
       "      <td>56.000000</td>\n",
       "      <td>1.000000</td>\n",
       "      <td>15.000000</td>\n",
       "      <td>256.000000</td>\n",
       "      <td>80.000000</td>\n",
       "      <td>...</td>\n",
       "      <td>0.000000</td>\n",
       "      <td>100.000000</td>\n",
       "      <td>6.000000</td>\n",
       "      <td>5.000000</td>\n",
       "      <td>30.000000</td>\n",
       "      <td>3.000000</td>\n",
       "      <td>45.000000</td>\n",
       "      <td>2.000000</td>\n",
       "      <td>2.000000</td>\n",
       "      <td>1.000000</td>\n",
       "    </tr>\n",
       "    <tr>\n",
       "      <th>max</th>\n",
       "      <td>100.000000</td>\n",
       "      <td>18.000000</td>\n",
       "      <td>23.000000</td>\n",
       "      <td>32.000000</td>\n",
       "      <td>471.000000</td>\n",
       "      <td>232.000000</td>\n",
       "      <td>24.000000</td>\n",
       "      <td>83.000000</td>\n",
       "      <td>803.000000</td>\n",
       "      <td>94.000000</td>\n",
       "      <td>...</td>\n",
       "      <td>19.000000</td>\n",
       "      <td>100.000000</td>\n",
       "      <td>7.000000</td>\n",
       "      <td>6.000000</td>\n",
       "      <td>104.000000</td>\n",
       "      <td>19.000000</td>\n",
       "      <td>100.000000</td>\n",
       "      <td>66.000000</td>\n",
       "      <td>66.000000</td>\n",
       "      <td>1.000000</td>\n",
       "    </tr>\n",
       "  </tbody>\n",
       "</table>\n",
       "<p>8 rows × 24 columns</p>\n",
       "</div>"
      ],
      "text/plain": [
       "       PercentTradesWBalance  NumBank2NatlTradesWHighUtilization  \\\n",
       "count            9871.000000                         9871.000000   \n",
       "mean               66.451829                            1.046905   \n",
       "std                22.060938                            1.509151   \n",
       "min                 0.000000                            0.000000   \n",
       "25%                50.000000                            0.000000   \n",
       "50%                67.000000                            1.000000   \n",
       "75%                83.000000                            2.000000   \n",
       "max               100.000000                           18.000000   \n",
       "\n",
       "       NumInstallTradesWBalance  NumRevolvingTradesWBalance  \\\n",
       "count               9871.000000                 9871.000000   \n",
       "mean                   2.381724                    4.056124   \n",
       "std                    1.606461                    3.021385   \n",
       "min                    1.000000                    0.000000   \n",
       "25%                    1.000000                    2.000000   \n",
       "50%                    2.000000                    3.000000   \n",
       "75%                    3.000000                    5.000000   \n",
       "max                   23.000000                   32.000000   \n",
       "\n",
       "       NetFractionInstallBurden  NetFractionRevolvingBurden  \\\n",
       "count               9871.000000                 9871.000000   \n",
       "mean                  57.726573                   34.536420   \n",
       "std                   28.961441                   28.904505   \n",
       "min                    0.000000                    0.000000   \n",
       "25%                   35.000000                    8.000000   \n",
       "50%                   61.000000                   29.000000   \n",
       "75%                   82.000000                   56.000000   \n",
       "max                  471.000000                  232.000000   \n",
       "\n",
       "       MSinceMostRecentInqexcl7days  MSinceMostRecentDelq  \\\n",
       "count                   9871.000000           9871.000000   \n",
       "mean                       0.491440              7.729511   \n",
       "std                        5.635815             20.711009   \n",
       "min                       -7.000000             -7.000000   \n",
       "25%                        0.000000             -7.000000   \n",
       "50%                        0.000000              1.000000   \n",
       "75%                        1.000000             15.000000   \n",
       "max                       24.000000             83.000000   \n",
       "\n",
       "       MSinceOldestTradeOpen  ExternalRiskEstimate     ...       \\\n",
       "count            9871.000000           9871.000000     ...        \n",
       "mean              198.809340             72.066559     ...        \n",
       "std                98.019442              9.879350     ...        \n",
       "min                 2.000000             33.000000     ...        \n",
       "25%               133.000000             64.000000     ...        \n",
       "50%               184.000000             72.000000     ...        \n",
       "75%               256.000000             80.000000     ...        \n",
       "max               803.000000             94.000000     ...        \n",
       "\n",
       "       NumTrades90Ever2DerogPubRec  PercentTradesNeverDelq  \\\n",
       "count                  9871.000000             9871.000000   \n",
       "mean                      0.384763               92.359943   \n",
       "std                       0.993223               11.772876   \n",
       "min                       0.000000                0.000000   \n",
       "25%                       0.000000               89.000000   \n",
       "50%                       0.000000               97.000000   \n",
       "75%                       0.000000              100.000000   \n",
       "max                      19.000000              100.000000   \n",
       "\n",
       "       MaxDelq2PublicRecLast12M  MaxDelqEver  NumTotalTrades  \\\n",
       "count               9871.000000  9871.000000     9871.000000   \n",
       "mean                   5.012157     3.928781       22.635498   \n",
       "std                    1.292741     1.489066       12.999924   \n",
       "min                    0.000000     0.000000        0.000000   \n",
       "25%                    5.000000     4.000000       13.000000   \n",
       "50%                    5.000000     4.000000       21.000000   \n",
       "75%                    6.000000     5.000000       30.000000   \n",
       "max                    7.000000     6.000000      104.000000   \n",
       "\n",
       "       NumTradesOpeninLast12M  PercentInstallTrades  NumInqLast6M  \\\n",
       "count             9871.000000           9871.000000   9871.000000   \n",
       "mean                 1.863844             34.618681      1.455982   \n",
       "std                  1.828099             17.953432      2.136161   \n",
       "min                  0.000000              0.000000      0.000000   \n",
       "25%                  0.000000             21.000000      0.000000   \n",
       "50%                  1.000000             33.000000      1.000000   \n",
       "75%                  3.000000             45.000000      2.000000   \n",
       "max                 19.000000            100.000000     66.000000   \n",
       "\n",
       "       NumInqLast6Mexcl7days       target  \n",
       "count            9871.000000  9871.000000  \n",
       "mean                1.397123     0.520312  \n",
       "std                 2.096102     0.499613  \n",
       "min                 0.000000     0.000000  \n",
       "25%                 0.000000     0.000000  \n",
       "50%                 1.000000     1.000000  \n",
       "75%                 2.000000     1.000000  \n",
       "max                66.000000     1.000000  \n",
       "\n",
       "[8 rows x 24 columns]"
      ]
     },
     "execution_count": 13,
     "metadata": {},
     "output_type": "execute_result"
    }
   ],
   "source": [
    "# Ruoyu\n",
    "\n",
    "for i,j in zipped:\n",
    "    train_knn = df[df[j] != -8]  #df['colnames']\n",
    "    test_knn = df[df[j] == -8] \n",
    "    test_index = test_knn.index\n",
    "\n",
    "    x_train_knn = train_knn.drop(train_knn.columns[i],axis=1)  #.columns[i]\n",
    "    y_train_knn = train_knn[j]\n",
    "    x_test_knn  = test_knn.drop(test_knn.columns[i],axis=1)\n",
    "    y_test_knn  = test_knn[j]\n",
    "\n",
    "    classifier = KNeighborsClassifier(n_neighbors=5) \n",
    "    classifier.fit(x_train_knn, y_train_knn) \n",
    "    y_pred_knn = classifier.predict(x_test_knn)  \n",
    "    y_pred_knn = y_pred_knn.astype(int)\n",
    "\n",
    "\n",
    "    #combine train and predict\n",
    "    y_pred_knn = pd.DataFrame({j:y_pred_knn}, index = test_index)\n",
    "    neg_knn = pd.concat([y_pred_knn, x_test_knn], axis=1)\n",
    "\n",
    "    train_knn_reorder = pd.concat([y_train_knn, x_train_knn], axis=1) #reorder train_knn\n",
    " \n",
    "    #combine train and test  \n",
    "    cleaned_neg8 = pd.concat([neg_knn,train_knn_reorder])\n",
    "    df = cleaned_neg8\n",
    "\n",
    "#make a copy for the cleaned data. If you need to rerun the code, use cleaned_neg8_all \n",
    "cleaned_neg8_all = df\n",
    "df.describe()"
   ]
  },
  {
   "cell_type": "code",
   "execution_count": 14,
   "metadata": {
    "collapsed": true
   },
   "outputs": [],
   "source": [
    "#replace -7 with a large number\n",
    "df['MSinceMostRecentInqexcl7days'] = df['MSinceMostRecentInqexcl7days'].replace(-7,200) \n",
    "df['MSinceMostRecentDelq'] = df['MSinceMostRecentDelq'].replace(-7,200)"
   ]
  },
  {
   "cell_type": "markdown",
   "metadata": {},
   "source": [
    "- Replace -8 s with value of nearest point"
   ]
  },
  {
   "cell_type": "code",
   "execution_count": 15,
   "metadata": {
    "collapsed": true
   },
   "outputs": [],
   "source": [
    "# SunJoo\n",
    "# Train Test Split data\n",
    "X = df.drop('target',axis=1)\n",
    "y = df['target']\n",
    "\n",
    "# setseed\n",
    "np.random.seed(123)\n",
    "\n",
    "# Using 20% of data for test\n",
    "from sklearn.model_selection import train_test_split\n",
    "X_train, X_test, y_train, y_test = train_test_split(X,y,test_size=0.2)\n",
    "train = df.loc[df.index.isin(X_train.index), :]\n",
    "test = df.loc[~df.index.isin(X_train.index), :]\n",
    "\n",
    "#np.shape(train)"
   ]
  },
  {
   "cell_type": "code",
   "execution_count": 16,
   "metadata": {
    "collapsed": true
   },
   "outputs": [],
   "source": [
    "# Normalize\n",
    "sc = StandardScaler()\n",
    "\n",
    "X_train = sc.fit_transform(X_train)\n",
    "X_test = sc.transform(X_test)"
   ]
  },
  {
   "cell_type": "code",
   "execution_count": 17,
   "metadata": {},
   "outputs": [
    {
     "data": {
      "image/png": "[encoded data removed]",
      "text/plain": [
       "<matplotlib.figure.Figure at 0x118b3dd68>"
      ]
     },
     "metadata": {},
     "output_type": "display_data"
    }
   ],
   "source": [
    "# plot the count of target\n",
    "sns.countplot(x='target',data= df,palette='hls')\n",
    "plt.show()\n",
    "plt.savefig('count_plt')"
   ]
  },
  {
   "cell_type": "code",
   "execution_count": 18,
   "metadata": {},
   "outputs": [
    {
     "data": {
      "text/plain": [
       "array([[ 0.28726543, -0.69363555,  0.3741147 , ..., -0.20856438,\n",
       "        -0.214519  , -0.19064342],\n",
       "       [ 0.01475413, -0.69363555, -0.85672266, ..., -1.54953552,\n",
       "        -0.214519  , -0.19064342],\n",
       "       [ 0.8777066 , -0.69363555, -0.24130398, ..., -0.59968096,\n",
       "        -0.67795048, -0.66312317],\n",
       "       ..., \n",
       "       [-1.0752911 , -0.69363555, -0.85672266, ..., -1.21429274,\n",
       "        -0.214519  , -0.19064342],\n",
       "       [ 0.83228805,  1.29028608,  0.3741147 , ...,  0.23842601,\n",
       "        -0.67795048, -0.66312317],\n",
       "       [ 0.37810254,  1.95159329, -0.85672266, ..., -1.32604033,\n",
       "        -0.67795048, -0.66312317]])"
      ]
     },
     "execution_count": 18,
     "metadata": {},
     "output_type": "execute_result"
    }
   ],
   "source": [
    "X_test"
   ]
  },
  {
   "cell_type": "code",
   "execution_count": 19,
   "metadata": {},
   "outputs": [
    {
     "data": {
      "text/plain": [
       "4838     0\n",
       "8794     0\n",
       "3461     1\n",
       "10316    0\n",
       "867      1\n",
       "4690     0\n",
       "10114    1\n",
       "104      0\n",
       "2097     0\n",
       "3064     1\n",
       "1814     1\n",
       "1658     1\n",
       "6395     1\n",
       "8562     0\n",
       "4626     0\n",
       "1542     1\n",
       "4386     1\n",
       "427      1\n",
       "4585     0\n",
       "3846     0\n",
       "5938     1\n",
       "8067     0\n",
       "5272     1\n",
       "4991     0\n",
       "360      0\n",
       "8228     1\n",
       "3823     0\n",
       "4977     0\n",
       "844      1\n",
       "4909     0\n",
       "        ..\n",
       "1055     0\n",
       "9192     1\n",
       "6998     1\n",
       "2441     1\n",
       "8419     1\n",
       "7477     0\n",
       "6871     0\n",
       "611      0\n",
       "9848     0\n",
       "5688     1\n",
       "5372     0\n",
       "3783     0\n",
       "4126     1\n",
       "10296    1\n",
       "8746     1\n",
       "3375     1\n",
       "9353     1\n",
       "2685     0\n",
       "389      1\n",
       "9576     0\n",
       "10272    0\n",
       "10057    1\n",
       "2734     0\n",
       "7279     1\n",
       "10344    1\n",
       "4011     0\n",
       "2121     1\n",
       "6011     0\n",
       "1682     0\n",
       "503      1\n",
       "Name: target, Length: 1000, dtype: int64"
      ]
     },
     "execution_count": 19,
     "metadata": {},
     "output_type": "execute_result"
    }
   ],
   "source": [
    "df_sample = y.sample(n=1000)\n",
    "df_sample"
   ]
  },
  {
   "cell_type": "code",
   "execution_count": 20,
   "metadata": {
    "collapsed": true
   },
   "outputs": [],
   "source": [
    "import random"
   ]
  },
  {
   "cell_type": "code",
   "execution_count": 21,
   "metadata": {
    "collapsed": true
   },
   "outputs": [],
   "source": [
    "#plot the distribution of the target variable\n",
    "target_f = []\n",
    "for i in range(10000):\n",
    "    rand_n = random.randint(1000,8000)\n",
    "    df_sample = y.sample(n=rand_n)\n",
    "    count = len(df_sample[df_sample==1])/rand_n\n",
    "    target_f.append(count)  "
   ]
  },
  {
   "cell_type": "code",
   "execution_count": 23,
   "metadata": {},
   "outputs": [],
   "source": [
    "#plt.figure()\n",
    "#plt.hist(target_f, bins=50,density = True)\n",
    "#plt.title(\"Distribution for Target Variable\")\n",
    "#plt.xlabel(\"Normalized Frequency of Target Variable = 1\")\n",
    "#plt.ylabel(\"Probability\")"
   ]
  },
  {
   "cell_type": "markdown",
   "metadata": {},
   "source": [
    "## Baseline Model"
   ]
  },
  {
   "cell_type": "code",
   "execution_count": 24,
   "metadata": {},
   "outputs": [
    {
     "name": "stdout",
     "output_type": "stream",
     "text": [
      "The accuracy of baseline model on test set: 0.7043\n"
     ]
    }
   ],
   "source": [
    "#ZC 11/12/2018\n",
    "mean_RiskEstimate = np.mean(train['ExternalRiskEstimate'])\n",
    "mean_RiskEstimate\n",
    "#a naive baseline model: if risk estimate > mean(risk estimate), set \"Good\", otherwise \"Bad\"\n",
    "test['naive_base'] = np.zeros(len(test))\n",
    "test.loc[test['ExternalRiskEstimate'] < mean_RiskEstimate,'naive_base'] = 1\n",
    "\n",
    "#calulate accuracy on the test set\n",
    "count = 0\n",
    "for index,row in test.iterrows():\n",
    "    if row['naive_base'] == row['target']:\n",
    "        count+=1\n",
    "accuracy_baseline = count/len(test)\n",
    "print('The accuracy of baseline model on test set: {:.4f}'.format(accuracy_baseline))"
   ]
  },
  {
   "cell_type": "code",
   "execution_count": 25,
   "metadata": {},
   "outputs": [
    {
     "name": "stdout",
     "output_type": "stream",
     "text": [
      "AUC of baseline model: 0.7055\n"
     ]
    }
   ],
   "source": [
    "#ZC 11/15/2018\n",
    "#Calculate AUC for the baseline model\n",
    "fpr_base, tpr_base, thresholds_base = roc_curve(test[\"target\"], test[\"naive_base\"])\n",
    "roc_auc_base = auc(fpr_base, tpr_base)\n",
    "print('AUC of baseline model: {:.4f}' .format(roc_auc_base))"
   ]
  },
  {
   "cell_type": "markdown",
   "metadata": {},
   "source": [
    "## Initial Training"
   ]
  },
  {
   "cell_type": "markdown",
   "metadata": {},
   "source": [
    "### Improved Baseline"
   ]
  },
  {
   "cell_type": "code",
   "execution_count": 26,
   "metadata": {
    "collapsed": true
   },
   "outputs": [],
   "source": [
    "#12/3/2018 modified scoring function:change score/threshold to the distance to the mean from train data\n",
    "#it is equivalent to a simple decision tree/hyperplane problem where the level of mean divides the whole space to 1 and 0 while a distance loss function is applied\n",
    "\n",
    "#isolate the target and base prediction as a seperate dataframe\n",
    "df_baseline = test.loc[:,['ExternalRiskEstimate','target','naive_base']]\n",
    "\n",
    "#drop the colume \"naive_base\" in the original dataset\n",
    "test.drop([\"naive_base\"],axis=1,inplace=True)\n",
    "\n",
    "#create scores based on the distance of ExternalRiskEstimate to mean_RiskEstimate, the more negative it is the higher the score\n",
    "#aka the more likely the instance is of a positive case (a score of \"Bad\")\n",
    "df_baseline['score'] = df_baseline['ExternalRiskEstimate'] -  mean_RiskEstimate\n",
    "\n",
    "#sort the dataframe based on score (ascendingly by the value = decendingly by the ranking, remember the lower the score the higher the ranking)\n",
    "df_baseline.sort_values(by=['score'],inplace = True)\n",
    "#df_baseline.head()\n"
   ]
  },
  {
   "cell_type": "code",
   "execution_count": 27,
   "metadata": {},
   "outputs": [
    {
     "data": {
      "text/plain": [
       "array([ 22.04090679,  21.04090679,  20.04090679,  19.04090679,\n",
       "        18.04090679,  17.04090679,  16.04090679,  15.04090679,\n",
       "        14.04090679,  13.04090679,  12.04090679,  11.04090679,\n",
       "        10.04090679,   9.04090679,   8.04090679,   7.04090679,\n",
       "         6.04090679,   5.04090679,   4.04090679,   3.04090679,\n",
       "         2.04090679,   1.04090679,   0.04090679,  -0.95909321,\n",
       "        -1.95909321,  -2.95909321,  -3.95909321,  -4.95909321,\n",
       "        -5.95909321,  -6.95909321,  -7.95909321,  -8.95909321,\n",
       "        -9.95909321, -10.95909321, -11.95909321, -12.95909321,\n",
       "       -13.95909321, -14.95909321, -15.95909321, -16.95909321,\n",
       "       -17.95909321, -18.95909321, -20.95909321, -21.95909321,\n",
       "       -25.95909321, -26.95909321, -35.95909321])"
      ]
     },
     "execution_count": 27,
     "metadata": {},
     "output_type": "execute_result"
    }
   ],
   "source": [
    "#for improved baseline\n",
    "#apply the score to the roc function to obtain fpr and tpr\n",
    "fpr_base_1, tpr_base_1, thresholds_base_1 = roc_curve(df_baseline[\"target\"], df_baseline[\"score\"])\n",
    "thresholds_base_1 "
   ]
  },
  {
   "cell_type": "code",
   "execution_count": 28,
   "metadata": {
    "collapsed": true
   },
   "outputs": [],
   "source": [
    "#to get the index of threshold  values\n",
    "row_n = []\n",
    "for t in thresholds_base_1[1:]:\n",
    "    row_n.append(df_baseline.loc[df_baseline[\"score\"] == t].index.values[-1])\n",
    "row_n_sorted = list(reversed(row_n))"
   ]
  },
  {
   "cell_type": "code",
   "execution_count": 29,
   "metadata": {
    "collapsed": true
   },
   "outputs": [],
   "source": [
    "#calculate tpr and fpr by moving along the threshold\n",
    "true_p=df_baseline[df_baseline[\"target\"]==1].count()[0]\n",
    "true_n=len(df_baseline) - true_p\n",
    "tpr_base_2 = []\n",
    "fpr_base_2 = []\n",
    "n_pred_base_2 = []\n",
    "\n",
    "for i in row_n_sorted:\n",
    "    df_threshold = df_baseline.loc[:i]\n",
    "    #assume all instances above certain threshold is positive\n",
    "    #true value of positive predictions made so far \n",
    "    positive_t = df_threshold[df_baseline[\"target\"]==1].count()[0]\n",
    "    negative_t = df_threshold[df_baseline[\"target\"]!=1].count()[0]\n",
    "    #tpr and fpr\n",
    "    tpr = positive_t/true_p\n",
    "    fpr = negative_t/true_n\n",
    "    tpr_base_2.append(tpr)\n",
    "    fpr_base_2.append(fpr)\n",
    "    n_pred_base_2.append(len(df_threshold)/len(df_baseline))"
   ]
  },
  {
   "cell_type": "code",
   "execution_count": 30,
   "metadata": {},
   "outputs": [
    {
     "name": "stdout",
     "output_type": "stream",
     "text": [
      "The auc is:  0.774699157827\n",
      "The accuracy is:  0.704303797468\n"
     ]
    }
   ],
   "source": [
    "#AUC for improved baseline\n",
    "roc_auc_base_2 = auc(fpr_base_2, tpr_base_2)\n",
    "print(\"The auc is: \",roc_auc_base_2)\n",
    "accuracy_baseline_improved = accuracy_score(df_baseline[\"target\"],df_baseline[\"naive_base\"])\n",
    "print(\"The accuracy is: \", accuracy_baseline_improved)"
   ]
  },
  {
   "cell_type": "code",
   "execution_count": 31,
   "metadata": {},
   "outputs": [
    {
     "data": {
      "text/plain": [
       "[0, 0.48050632911392405, 1]"
      ]
     },
     "execution_count": 31,
     "metadata": {},
     "output_type": "execute_result"
    }
   ],
   "source": [
    "size_1 = df_baseline.loc[df_baseline['naive_base'] == 1].count()[0]\n",
    "#therefore the proportion of prediction in population is\n",
    "size_pred = [0,size_1/len(test),1]\n",
    "size_pred\n",
    "#this will be used in PnL Analysis (cost and benefit)"
   ]
  },
  {
   "cell_type": "code",
   "execution_count": null,
   "metadata": {
    "collapsed": true
   },
   "outputs": [],
   "source": []
  },
  {
   "cell_type": "markdown",
   "metadata": {},
   "source": [
    "### Logistic Regression"
   ]
  },
  {
   "cell_type": "code",
   "execution_count": 34,
   "metadata": {
    "scrolled": true
   },
   "outputs": [
    {
     "name": "stdout",
     "output_type": "stream",
     "text": [
      "\n",
      "                                     0         0\n",
      "0                PercentTradesWBalance -0.089690\n",
      "1   NumBank2NatlTradesWHighUtilization  0.152542\n",
      "2             NumInstallTradesWBalance -0.029664\n",
      "3           NumRevolvingTradesWBalance  0.207679\n",
      "4             NetFractionInstallBurden  0.017136\n",
      "5           NetFractionRevolvingBurden  0.250215\n",
      "6         MSinceMostRecentInqexcl7days  0.126899\n",
      "7                 MSinceMostRecentDelq -0.150750\n",
      "8                MSinceOldestTradeOpen -0.080562\n",
      "9                 ExternalRiskEstimate -0.533991\n",
      "10           MSinceMostRecentTradeOpen  0.059830\n",
      "11                      AverageMInFile -0.252653\n",
      "12               NumSatisfactoryTrades -0.446252\n",
      "13         NumTrades60Ever2DerogPubRec -0.005985\n",
      "14         NumTrades90Ever2DerogPubRec  0.020355\n",
      "15              PercentTradesNeverDelq -0.175566\n",
      "16            MaxDelq2PublicRecLast12M -0.089134\n",
      "17                         MaxDelqEver  0.093030\n",
      "18                      NumTotalTrades  0.043235\n",
      "19              NumTradesOpeninLast12M  0.050448\n",
      "20                PercentInstallTrades  0.193375\n",
      "21                        NumInqLast6M  0.826732\n",
      "22               NumInqLast6Mexcl7days -0.621954\n",
      "test accuracy logreg:0.7296\n",
      "AUC of logreg baseline model: 0.8066\n"
     ]
    }
   ],
   "source": [
    "#Use default settings\n",
    "kfold = 10\n",
    "logreg = linear_model.LogisticRegression()\n",
    "logreg.fit(X_train, y_train)\n",
    "\n",
    "y_pred = logreg.predict(X_test)\n",
    "print()\n",
    "\n",
    "coefficients = pd.concat([pd.DataFrame(X.columns),pd.DataFrame(np.transpose(logreg.coef_))], axis = 1)\n",
    "print(coefficients)\n",
    "\n",
    "#test accuracy for logreg\n",
    "cvs_logreg = cross_val_score(logreg, X_test, y_test, scoring='accuracy', cv=kfold)\n",
    "print('test accuracy logreg:{:.4f}' .format(cvs_logreg.mean()))\n",
    "#calculate AUC for logreg19\n",
    "logreg_pred = logreg.decision_function(X_test)\n",
    "fpr_logreg, tpr_logreg, thresholds_logreg = roc_curve(y_test, logreg_pred)\n",
    "roc_auc_logreg = auc(fpr_logreg, tpr_logreg)\n",
    "print('AUC of logreg baseline model: {:.4f}' .format(roc_auc_logreg))"
   ]
  },
  {
   "cell_type": "code",
   "execution_count": 35,
   "metadata": {},
   "outputs": [
    {
     "name": "stdout",
     "output_type": "stream",
     "text": [
      "0.729113924051\n",
      "0.806641230941\n"
     ]
    }
   ],
   "source": [
    "# accuracy, fpr, tpr, thresholds, and auc for default Logistic regression\n",
    "accuracy_logreg = accuracy_score(y_test, y_pred)\n",
    "print(accuracy_logreg)\n",
    "\n",
    "logreg_pred = logreg.predict_proba(X_test)[:,1]\n",
    "fpr_logreg, tpr_logreg, thresholds_logreg = roc_curve(y_test, logreg_pred)\n",
    "roc_auc_logreg = auc(fpr_logreg, tpr_logreg)\n",
    "auc_logreg =  roc_auc_logreg\n",
    "print(auc_logreg)"
   ]
  },
  {
   "cell_type": "code",
   "execution_count": 37,
   "metadata": {},
   "outputs": [],
   "source": [
    "# Plot feature coefficients\n",
    "coef = logreg.coef_.ravel()\n",
    "sort_idx = np.argsort(coef)\n",
    "\n",
    "plt.figure(figsize=(15, 5))\n",
    "colors = []\n",
    "for c in np.sort(coef):\n",
    "    if c < 0:\n",
    "        colors.append('red')\n",
    "    else:\n",
    "        colors.append('blue')\n",
    "        \n",
    "#plt.bar(np.array(df.columns)[sort_idx], np.sort(coef), color=colors)\n",
    "feature_names = np.array(np.array(df.columns)[sort_idx])\n",
    "#plt.xticks(feature_names, rotation=60, ha='right')\n",
    "#plt.show()"
   ]
  },
  {
   "cell_type": "markdown",
   "metadata": {},
   "source": [
    "- The result is slight higher than baseline model, next we performed grid search with cross-validation to find the best hyper-parameter combinations."
   ]
  },
  {
   "cell_type": "code",
   "execution_count": 38,
   "metadata": {},
   "outputs": [
    {
     "name": "stdout",
     "output_type": "stream",
     "text": [
      "Score of the best model: 0.7278\n",
      "LogisticRegression(C=0.1, class_weight=None, dual=False, fit_intercept=True,\n",
      "          intercept_scaling=1, max_iter=100, multi_class='ovr', n_jobs=1,\n",
      "          penalty='l1', random_state=None, solver='liblinear', tol=0.0001,\n",
      "          verbose=0, warm_start=False)\n",
      "Accuracy of logistic regression with Grid Search CV on test set: 0.7332\n"
     ]
    }
   ],
   "source": [
    "# Logistic Regression with Grid Search CV\n",
    "# Perform a grid search to optimize hyper-parameters using cross-validation\n",
    "# Create folds for cross-validation, use Kfold to create 4 folds\n",
    "kfolds = KFold(n_splits = 4)\n",
    "#1et up a paramater grid\n",
    "param_grid_lr = {'C':[10**i for i in range(-2, 3)], 'penalty':['l1', 'l2']}\n",
    "\n",
    "#2nd, call the GridSearchCV class, use LogisticRegression and 'roc_auc' for scoring\n",
    "lr_grid_search = GridSearchCV(linear_model.LogisticRegression(), param_grid_lr, cv = kfolds, scoring = 'accuracy') \n",
    "lr_grid_search.fit(X_train, y_train)\n",
    "\n",
    "#3rd, get the score of the best model and print it\n",
    "best_1 = lr_grid_search.best_score_\n",
    "print('Score of the best model: {:.4f}'.format(best_1,'\\n'))\n",
    "# look at the best-estimator chosen to see what the parameters were\n",
    "print(lr_grid_search.best_estimator_)\n",
    "best_grid = lr_grid_search.best_estimator_\n",
    "y_pred =best_grid.predict(X_test)\n",
    "print('Accuracy of logistic regression with Grid Search CV on test set: {:.4f}'.format(accuracy_score(y_test, y_pred)))"
   ]
  },
  {
   "cell_type": "code",
   "execution_count": 39,
   "metadata": {},
   "outputs": [
    {
     "name": "stdout",
     "output_type": "stream",
     "text": [
      "Score of the best model: 0.7278\n",
      "Pipeline(steps=[('polyfeat', PolynomialFeatures(degree=1, include_bias=True, interaction_only=True)), ('scaler', StandardScaler(copy=True, with_mean=True, with_std=True)), ('lr', LogisticRegression(C=0.1, class_weight=None, dual=False, fit_intercept=True,\n",
      "          intercept_scaling=1, max_iter=100, multi_class='ovr', n_jobs=1,\n",
      "          penalty='l1', random_state=None, solver='liblinear', tol=0.0001,\n",
      "          verbose=0, warm_start=False))]) \n",
      "\n",
      "Accuracy of logistic regression with Grid Search CV and polynomial features on test set: 0.7332\n"
     ]
    }
   ],
   "source": [
    "# Create pipline to perform gridSearch\n",
    "# Generate polynomial and interaction terms\n",
    "from sklearn.pipeline import Pipeline\n",
    "from sklearn.preprocessing import PolynomialFeatures\n",
    "from sklearn.linear_model import LogisticRegression\n",
    "\n",
    "steps_poly = [('polyfeat', PolynomialFeatures()),\n",
    "              ('scaler', StandardScaler()),\n",
    "         ('lr', LogisticRegression())]\n",
    "\n",
    "#Now set up the pipeline\n",
    "pipeline_poly = Pipeline(steps_poly)\n",
    "\n",
    "#Now set up a new parameter grid, use the same paramaters used above for logistic regression, but add polynomial features up to degree 3. \n",
    "parameters_poly = dict(polyfeat__degree = [1, 2],\n",
    "                       polyfeat__interaction_only = [True, False],\n",
    "                       lr__C = [10**i for i in range(-2, 3)],\n",
    "                       lr__penalty = ['l1', 'l2'])\n",
    "\n",
    "#Now run another grid search\n",
    "lr_grid_search_poly = GridSearchCV(pipeline_poly, param_grid = parameters_poly, cv = kfolds, scoring = 'accuracy')\n",
    "\n",
    "lr_grid_search_poly.fit(X_train, y_train)\n",
    "best_2 = lr_grid_search_poly.best_score_\n",
    "print('Score of the best model: {:.4f}'.format(best_2,'\\n'))\n",
    "\n",
    "best_grid_2 = lr_grid_search_poly.best_estimator_\n",
    "print(best_grid_2,'\\n')\n",
    "y_pred_2 =best_grid_2.predict(X_test)\n",
    "print('Accuracy of logistic regression with Grid Search CV and polynomial features on test set: {:.4f}'.format(accuracy_score(y_test, y_pred_2)))\n"
   ]
  },
  {
   "cell_type": "code",
   "execution_count": 40,
   "metadata": {
    "collapsed": true
   },
   "outputs": [],
   "source": [
    "from sklearn.model_selection import cross_val_score\n",
    "kfold = KFold(n_splits=10, random_state = 42)"
   ]
  },
  {
   "cell_type": "code",
   "execution_count": 41,
   "metadata": {},
   "outputs": [
    {
     "name": "stdout",
     "output_type": "stream",
     "text": [
      "0.730600420448 0.024474334256\n"
     ]
    }
   ],
   "source": [
    "cvs_rl = cross_val_score(best_grid_2, X_test, y_test, cv=kfold)\n",
    "print(cvs_rl.mean(),cvs_rl.std())"
   ]
  },
  {
   "cell_type": "code",
   "execution_count": 42,
   "metadata": {},
   "outputs": [
    {
     "name": "stdout",
     "output_type": "stream",
     "text": [
      "                                     0         0\n",
      "0                PercentTradesWBalance -0.045891\n",
      "1   NumBank2NatlTradesWHighUtilization  0.149968\n",
      "2             NumInstallTradesWBalance -0.022773\n",
      "3           NumRevolvingTradesWBalance  0.169628\n",
      "4             NetFractionInstallBurden  0.008720\n",
      "5           NetFractionRevolvingBurden  0.222982\n",
      "6         MSinceMostRecentInqexcl7days  0.118607\n",
      "7                 MSinceMostRecentDelq -0.127980\n",
      "8                MSinceOldestTradeOpen -0.070667\n",
      "9                 ExternalRiskEstimate -0.557886\n",
      "10           MSinceMostRecentTradeOpen  0.043899\n",
      "11                      AverageMInFile -0.247753\n",
      "12               NumSatisfactoryTrades -0.382218\n",
      "13         NumTrades60Ever2DerogPubRec  0.000000\n",
      "14         NumTrades90Ever2DerogPubRec  0.000000\n",
      "15              PercentTradesNeverDelq -0.160838\n",
      "16            MaxDelq2PublicRecLast12M -0.074121\n",
      "17                         MaxDelqEver  0.055014\n",
      "18                      NumTotalTrades  0.000000\n",
      "19              NumTradesOpeninLast12M  0.036035\n",
      "20                PercentInstallTrades  0.164099\n",
      "21                        NumInqLast6M  0.202145\n",
      "22               NumInqLast6Mexcl7days  0.000000\n",
      "{'degree': 1, 'include_bias': True, 'interaction_only': True}\n"
     ]
    }
   ],
   "source": [
    "coefficients = pd.concat([pd.DataFrame(X.columns),pd.DataFrame(np.transpose(lr_grid_search_poly.best_estimator_.steps[-1][1].coef_)[1:])], axis = 1)\n",
    "print(coefficients)\n",
    "print(lr_grid_search_poly.best_estimator_.steps[0][1].get_params())\n",
    "#lr_grid_search_poly.best_estimator_.steps[0][1].get_feature_names()"
   ]
  },
  {
   "cell_type": "code",
   "execution_count": 43,
   "metadata": {},
   "outputs": [
    {
     "ename": "TypeError",
     "evalue": "unsupported operand type(s) for -: 'str' and 'float'",
     "output_type": "error",
     "traceback": [
      "\u001b[0;31m---------------------------------------------------------------------------\u001b[0m",
      "\u001b[0;31mTypeError\u001b[0m                                 Traceback (most recent call last)",
      "\u001b[0;32m<ipython-input-43-bcc442d72c7d>\u001b[0m in \u001b[0;36m<module>\u001b[0;34m()\u001b[0m\n\u001b[1;32m      5\u001b[0m \u001b[0mplt\u001b[0m\u001b[0;34m.\u001b[0m\u001b[0mfigure\u001b[0m\u001b[0;34m(\u001b[0m\u001b[0mfigsize\u001b[0m\u001b[0;34m=\u001b[0m\u001b[0;34m(\u001b[0m\u001b[0;36m15\u001b[0m\u001b[0;34m,\u001b[0m \u001b[0;36m5\u001b[0m\u001b[0;34m)\u001b[0m\u001b[0;34m)\u001b[0m\u001b[0;34m\u001b[0m\u001b[0m\n\u001b[1;32m      6\u001b[0m \u001b[0mcolors\u001b[0m \u001b[0;34m=\u001b[0m \u001b[0;34m[\u001b[0m\u001b[0;34m'red'\u001b[0m \u001b[0;32mif\u001b[0m \u001b[0mc\u001b[0m \u001b[0;34m<\u001b[0m \u001b[0;36m0\u001b[0m \u001b[0;32melse\u001b[0m \u001b[0;34m'blue'\u001b[0m \u001b[0;32mfor\u001b[0m \u001b[0mc\u001b[0m \u001b[0;32min\u001b[0m \u001b[0mnp\u001b[0m\u001b[0;34m.\u001b[0m\u001b[0msort\u001b[0m\u001b[0;34m(\u001b[0m\u001b[0mcoef\u001b[0m\u001b[0;34m)\u001b[0m\u001b[0;34m]\u001b[0m\u001b[0;34m\u001b[0m\u001b[0m\n\u001b[0;32m----> 7\u001b[0;31m \u001b[0mplt\u001b[0m\u001b[0;34m.\u001b[0m\u001b[0mbar\u001b[0m\u001b[0;34m(\u001b[0m\u001b[0mnp\u001b[0m\u001b[0;34m.\u001b[0m\u001b[0marray\u001b[0m\u001b[0;34m(\u001b[0m\u001b[0mdf\u001b[0m\u001b[0;34m.\u001b[0m\u001b[0mcolumns\u001b[0m\u001b[0;34m)\u001b[0m\u001b[0;34m[\u001b[0m\u001b[0msort_idx\u001b[0m\u001b[0;34m]\u001b[0m\u001b[0;34m,\u001b[0m \u001b[0mnp\u001b[0m\u001b[0;34m.\u001b[0m\u001b[0msort\u001b[0m\u001b[0;34m(\u001b[0m\u001b[0mcoef\u001b[0m\u001b[0;34m)\u001b[0m\u001b[0;34m,\u001b[0m \u001b[0mcolor\u001b[0m\u001b[0;34m=\u001b[0m\u001b[0mcolors\u001b[0m\u001b[0;34m)\u001b[0m\u001b[0;34m\u001b[0m\u001b[0m\n\u001b[0m\u001b[1;32m      8\u001b[0m \u001b[0mfeature_names\u001b[0m \u001b[0;34m=\u001b[0m \u001b[0mnp\u001b[0m\u001b[0;34m.\u001b[0m\u001b[0marray\u001b[0m\u001b[0;34m(\u001b[0m\u001b[0mnp\u001b[0m\u001b[0;34m.\u001b[0m\u001b[0marray\u001b[0m\u001b[0;34m(\u001b[0m\u001b[0mdf\u001b[0m\u001b[0;34m.\u001b[0m\u001b[0mcolumns\u001b[0m\u001b[0;34m)\u001b[0m\u001b[0;34m[\u001b[0m\u001b[0msort_idx\u001b[0m\u001b[0;34m]\u001b[0m\u001b[0;34m)\u001b[0m\u001b[0;34m\u001b[0m\u001b[0m\n\u001b[1;32m      9\u001b[0m \u001b[0mplt\u001b[0m\u001b[0;34m.\u001b[0m\u001b[0mxticks\u001b[0m\u001b[0;34m(\u001b[0m\u001b[0mfeature_names\u001b[0m\u001b[0;34m,\u001b[0m \u001b[0mrotation\u001b[0m\u001b[0;34m=\u001b[0m\u001b[0;36m60\u001b[0m\u001b[0;34m,\u001b[0m \u001b[0mha\u001b[0m\u001b[0;34m=\u001b[0m\u001b[0;34m'right'\u001b[0m\u001b[0;34m)\u001b[0m\u001b[0;34m\u001b[0m\u001b[0m\n",
      "\u001b[0;32m/anaconda/lib/python3.6/site-packages/matplotlib/pyplot.py\u001b[0m in \u001b[0;36mbar\u001b[0;34m(left, height, width, bottom, hold, data, **kwargs)\u001b[0m\n\u001b[1;32m   2702\u001b[0m     \u001b[0;32mtry\u001b[0m\u001b[0;34m:\u001b[0m\u001b[0;34m\u001b[0m\u001b[0m\n\u001b[1;32m   2703\u001b[0m         ret = ax.bar(left, height, width=width, bottom=bottom, data=data,\n\u001b[0;32m-> 2704\u001b[0;31m                      **kwargs)\n\u001b[0m\u001b[1;32m   2705\u001b[0m     \u001b[0;32mfinally\u001b[0m\u001b[0;34m:\u001b[0m\u001b[0;34m\u001b[0m\u001b[0m\n\u001b[1;32m   2706\u001b[0m         \u001b[0max\u001b[0m\u001b[0;34m.\u001b[0m\u001b[0m_hold\u001b[0m \u001b[0;34m=\u001b[0m \u001b[0mwashold\u001b[0m\u001b[0;34m\u001b[0m\u001b[0m\n",
      "\u001b[0;32m/anaconda/lib/python3.6/site-packages/matplotlib/__init__.py\u001b[0m in \u001b[0;36minner\u001b[0;34m(ax, *args, **kwargs)\u001b[0m\n\u001b[1;32m   1896\u001b[0m                     warnings.warn(msg % (label_namer, func.__name__),\n\u001b[1;32m   1897\u001b[0m                                   RuntimeWarning, stacklevel=2)\n\u001b[0;32m-> 1898\u001b[0;31m             \u001b[0;32mreturn\u001b[0m \u001b[0mfunc\u001b[0m\u001b[0;34m(\u001b[0m\u001b[0max\u001b[0m\u001b[0;34m,\u001b[0m \u001b[0;34m*\u001b[0m\u001b[0margs\u001b[0m\u001b[0;34m,\u001b[0m \u001b[0;34m**\u001b[0m\u001b[0mkwargs\u001b[0m\u001b[0;34m)\u001b[0m\u001b[0;34m\u001b[0m\u001b[0m\n\u001b[0m\u001b[1;32m   1899\u001b[0m         \u001b[0mpre_doc\u001b[0m \u001b[0;34m=\u001b[0m \u001b[0minner\u001b[0m\u001b[0;34m.\u001b[0m\u001b[0m__doc__\u001b[0m\u001b[0;34m\u001b[0m\u001b[0m\n\u001b[1;32m   1900\u001b[0m         \u001b[0;32mif\u001b[0m \u001b[0mpre_doc\u001b[0m \u001b[0;32mis\u001b[0m \u001b[0;32mNone\u001b[0m\u001b[0;34m:\u001b[0m\u001b[0;34m\u001b[0m\u001b[0m\n",
      "\u001b[0;32m/anaconda/lib/python3.6/site-packages/matplotlib/axes/_axes.py\u001b[0m in \u001b[0;36mbar\u001b[0;34m(self, left, height, width, bottom, **kwargs)\u001b[0m\n\u001b[1;32m   2103\u001b[0m         \u001b[0;32mif\u001b[0m \u001b[0malign\u001b[0m \u001b[0;34m==\u001b[0m \u001b[0;34m'center'\u001b[0m\u001b[0;34m:\u001b[0m\u001b[0;34m\u001b[0m\u001b[0m\n\u001b[1;32m   2104\u001b[0m             \u001b[0;32mif\u001b[0m \u001b[0morientation\u001b[0m \u001b[0;34m==\u001b[0m \u001b[0;34m'vertical'\u001b[0m\u001b[0;34m:\u001b[0m\u001b[0;34m\u001b[0m\u001b[0m\n\u001b[0;32m-> 2105\u001b[0;31m                 \u001b[0mleft\u001b[0m \u001b[0;34m=\u001b[0m \u001b[0;34m[\u001b[0m\u001b[0mleft\u001b[0m\u001b[0;34m[\u001b[0m\u001b[0mi\u001b[0m\u001b[0;34m]\u001b[0m \u001b[0;34m-\u001b[0m \u001b[0mwidth\u001b[0m\u001b[0;34m[\u001b[0m\u001b[0mi\u001b[0m\u001b[0;34m]\u001b[0m \u001b[0;34m/\u001b[0m \u001b[0;36m2.\u001b[0m \u001b[0;32mfor\u001b[0m \u001b[0mi\u001b[0m \u001b[0;32min\u001b[0m \u001b[0mxrange\u001b[0m\u001b[0;34m(\u001b[0m\u001b[0mlen\u001b[0m\u001b[0;34m(\u001b[0m\u001b[0mleft\u001b[0m\u001b[0;34m)\u001b[0m\u001b[0;34m)\u001b[0m\u001b[0;34m]\u001b[0m\u001b[0;34m\u001b[0m\u001b[0m\n\u001b[0m\u001b[1;32m   2106\u001b[0m             \u001b[0;32melif\u001b[0m \u001b[0morientation\u001b[0m \u001b[0;34m==\u001b[0m \u001b[0;34m'horizontal'\u001b[0m\u001b[0;34m:\u001b[0m\u001b[0;34m\u001b[0m\u001b[0m\n\u001b[1;32m   2107\u001b[0m                 bottom = [bottom[i] - height[i] / 2.\n",
      "\u001b[0;32m/anaconda/lib/python3.6/site-packages/matplotlib/axes/_axes.py\u001b[0m in \u001b[0;36m<listcomp>\u001b[0;34m(.0)\u001b[0m\n\u001b[1;32m   2103\u001b[0m         \u001b[0;32mif\u001b[0m \u001b[0malign\u001b[0m \u001b[0;34m==\u001b[0m \u001b[0;34m'center'\u001b[0m\u001b[0;34m:\u001b[0m\u001b[0;34m\u001b[0m\u001b[0m\n\u001b[1;32m   2104\u001b[0m             \u001b[0;32mif\u001b[0m \u001b[0morientation\u001b[0m \u001b[0;34m==\u001b[0m \u001b[0;34m'vertical'\u001b[0m\u001b[0;34m:\u001b[0m\u001b[0;34m\u001b[0m\u001b[0m\n\u001b[0;32m-> 2105\u001b[0;31m                 \u001b[0mleft\u001b[0m \u001b[0;34m=\u001b[0m \u001b[0;34m[\u001b[0m\u001b[0mleft\u001b[0m\u001b[0;34m[\u001b[0m\u001b[0mi\u001b[0m\u001b[0;34m]\u001b[0m \u001b[0;34m-\u001b[0m \u001b[0mwidth\u001b[0m\u001b[0;34m[\u001b[0m\u001b[0mi\u001b[0m\u001b[0;34m]\u001b[0m \u001b[0;34m/\u001b[0m \u001b[0;36m2.\u001b[0m \u001b[0;32mfor\u001b[0m \u001b[0mi\u001b[0m \u001b[0;32min\u001b[0m \u001b[0mxrange\u001b[0m\u001b[0;34m(\u001b[0m\u001b[0mlen\u001b[0m\u001b[0;34m(\u001b[0m\u001b[0mleft\u001b[0m\u001b[0;34m)\u001b[0m\u001b[0;34m)\u001b[0m\u001b[0;34m]\u001b[0m\u001b[0;34m\u001b[0m\u001b[0m\n\u001b[0m\u001b[1;32m   2106\u001b[0m             \u001b[0;32melif\u001b[0m \u001b[0morientation\u001b[0m \u001b[0;34m==\u001b[0m \u001b[0;34m'horizontal'\u001b[0m\u001b[0;34m:\u001b[0m\u001b[0;34m\u001b[0m\u001b[0m\n\u001b[1;32m   2107\u001b[0m                 bottom = [bottom[i] - height[i] / 2.\n",
      "\u001b[0;31mTypeError\u001b[0m: unsupported operand type(s) for -: 'str' and 'float'"
     ]
    }
   ],
   "source": [
    "# Plot feature coefficients\n",
    "coef = lr_grid_search_poly.best_estimator_.steps[-1][1].coef_[0][1:]\n",
    "sort_idx = np.argsort(coef)\n",
    "\n",
    "plt.figure(figsize=(15, 5))\n",
    "colors = ['red' if c < 0 else 'blue' for c in np.sort(coef)]\n",
    "plt.bar(np.array(df.columns)[sort_idx], np.sort(coef), color=colors)\n",
    "feature_names = np.array(np.array(df.columns)[sort_idx])\n",
    "plt.xticks(feature_names, rotation=60, ha='right')\n",
    "plt.show()\n"
   ]
  },
  {
   "cell_type": "code",
   "execution_count": null,
   "metadata": {},
   "outputs": [],
   "source": [
    "# Plot feature importance for logistic regression\n",
    "\n",
    "feature_importance = abs(lr_grid_search_poly.best_estimator_.steps[-1][1].coef_[0][1:])\n",
    "feature_importance = 100.0 * (feature_importance / feature_importance.max())\n",
    "sorted_idx = np.argsort(feature_importance)\n",
    "pos = np.arange(sorted_idx.shape[0]) + .5\n",
    "\n",
    "featfig = plt.figure(figsize=(12,12))\n",
    "featax = featfig.add_subplot(1, 1, 1)\n",
    "featax.barh(pos, feature_importance[sorted_idx], align='center')\n",
    "featax.set_yticks(pos)\n",
    "featax.set_yticklabels(np.array(df.columns)[sorted_idx], fontsize=8)\n",
    "featax.set_xlabel('Relative Feature Importance')\n",
    "\n",
    "#plt.tight_layout()   \n",
    "plt.show()\n",
    "\n",
    "#fi_list = pd.DataFrame({'feature':np.array(df.columns)[sorted_idx], 'feature importance':feature_importance[sorted_idx]})\n",
    "#print(fi_list)"
   ]
  },
  {
   "cell_type": "code",
   "execution_count": 51,
   "metadata": {},
   "outputs": [
    {
     "name": "stdout",
     "output_type": "stream",
     "text": [
      "AUC of the best logsitic regression model: 0.8066\n"
     ]
    }
   ],
   "source": [
    "#calculate AUC for logit based on predicted values vs the actual target value in the test set\n",
    "logit_pred = logreg.predict_proba(X_test)[:,1]\n",
    "fpr_logit, tpr_logit, thresholds_logit = roc_curve(y_test, logit_pred)\n",
    "roc_auc_logit = auc(fpr_logit, tpr_logit)\n",
    "print('AUC of the best logsitic regression model: {:.4f}'.format(roc_auc_logit))"
   ]
  },
  {
   "cell_type": "code",
   "execution_count": null,
   "metadata": {
    "collapsed": true
   },
   "outputs": [],
   "source": [
    "# accuracy, fpr, tpr, thresholds, and auc for Logistic regression\n",
    "accuracy_logreg = accuracy_score(y_test, y_pred_2)\n",
    "\n",
    "logreg_pred = best_grid_2.predict_proba(X_test)[:,1]\n",
    "fpr_logreg, tpr_logreg, thresholds_logreg = roc_curve(y_test, logreg_pred)\n",
    "roc_auc_logreg = auc(fpr_logreg, tpr_logreg)\n",
    "auc_logreg =  roc_auc_logreg"
   ]
  },
  {
   "cell_type": "markdown",
   "metadata": {},
   "source": [
    "- exponential of Coeficients represent the ratio change in the odds of the event of interest for a one-unit change in the predictor.\n",
    "- There are some unavoidable multicollinearities in the HELOC dataset which will affect the performance or LR. Therefore we add polynomial and interaction features to the model to capture those nonlineary and multicollinearities. \n"
   ]
  },
  {
   "cell_type": "markdown",
   "metadata": {},
   "source": [
    "### Support Vector Machine"
   ]
  },
  {
   "cell_type": "code",
   "execution_count": 44,
   "metadata": {},
   "outputs": [
    {
     "name": "stdout",
     "output_type": "stream",
     "text": [
      "SVC(C=1.0, cache_size=200, class_weight=None, coef0=0.0,\n",
      "  decision_function_shape=None, degree=3, gamma='auto', kernel='rbf',\n",
      "  max_iter=-1, probability=False, random_state=None, shrinking=True,\n",
      "  tol=0.001, verbose=False)\n",
      "test accuracy cvm:0.7291\n",
      "AUC of svm baseline model: 0.8006\n"
     ]
    }
   ],
   "source": [
    "#Eva - SVM with default settings\n",
    "svmm = svm.SVC()\n",
    "svmm.fit(X_train, y_train)\n",
    "svm_score = svmm.score(X_test, y_test)\n",
    "print(svmm)\n",
    "#test accuracy for svm\n",
    "cvs_svm = cross_val_score(svmm, X_test, y_test, scoring='accuracy', cv=kfold)\n",
    "print('test accuracy cvm:{:.4f}' .format(cvs_svm.mean()))\n",
    "#calculate AUC for SVM \n",
    "svm_pred = svmm.decision_function(X_test)\n",
    "fpr_svm, tpr_svm, thresholds_svm = roc_curve(y_test, svm_pred)\n",
    "roc_auc_svm = auc(fpr_svm, tpr_svm)\n",
    "print('AUC of svm baseline model: {:.4f}' .format(roc_auc_svm))"
   ]
  },
  {
   "cell_type": "code",
   "execution_count": 45,
   "metadata": {
    "scrolled": true
   },
   "outputs": [
    {
     "name": "stdout",
     "output_type": "stream",
     "text": [
      "{'C': 1, 'gamma': 0.01}\n",
      "0.735688956434\n",
      "test accuracy of svm model: 0.7332\n",
      "AUC of svm model: 0.8099\n"
     ]
    }
   ],
   "source": [
    "# SVM with Grid Search using cross-validation\n",
    "Cs = [0.1, 1]\n",
    "gammas = [0.001, 0.01, 0.1]\n",
    "param_grid = {'C': Cs,'gamma':gammas}\n",
    "grid_search_svm = GridSearchCV(svm.SVC(kernel='rbf'), param_grid, cv=4,scoring = 'accuracy')\n",
    "grid_search_svm.fit(X_train, y_train)\n",
    "print(grid_search_svm.best_params_)\n",
    "print(grid_search_svm.score(X_train, y_train))\n",
    "best_grid_svm = grid_search_svm.best_estimator_\n",
    "best_grid_svm \n",
    "cvs_svm = cross_val_score(best_grid_svm, X_test, y_test, scoring='accuracy', cv=kfold)\n",
    "print('test accuracy of svm model: {:.4f}' .format(cvs_svm.mean()))\n",
    "#calculate auc for SVM grid\n",
    "svm_pred_best = grid_search_svm.decision_function(X_test)\n",
    "fpr_svm_best, tpr_svm_best, thresholds_svm_best = roc_curve(y_test, svm_pred_best)\n",
    "roc_auc_svm_best = auc(fpr_svm_best, tpr_svm_best)\n",
    "print('AUC of svm model: {:.4f}' .format(roc_auc_svm_best))"
   ]
  },
  {
   "cell_type": "markdown",
   "metadata": {},
   "source": [
    "\n",
    "\n",
    "\n",
    "- For 'rbf' kernal, it's not possible to find coef_ given data are transformed by kernal method to another space."
   ]
  },
  {
   "cell_type": "markdown",
   "metadata": {},
   "source": [
    "### Decision Trees"
   ]
  },
  {
   "cell_type": "code",
   "execution_count": 46,
   "metadata": {},
   "outputs": [
    {
     "data": {
      "text/plain": [
       "DecisionTreeClassifier(class_weight=None, criterion='entropy', max_depth=None,\n",
       "            max_features=None, max_leaf_nodes=None,\n",
       "            min_impurity_split=1e-07, min_samples_leaf=1,\n",
       "            min_samples_split=2, min_weight_fraction_leaf=0.0,\n",
       "            presort=False, random_state=None, splitter='best')"
      ]
     },
     "execution_count": 46,
     "metadata": {},
     "output_type": "execute_result"
    }
   ],
   "source": [
    "#ZC\n",
    "from sklearn import tree\n",
    "\n",
    "#decision trees using the default setting\n",
    "df_entropy = tree.DecisionTreeClassifier(criterion=\"entropy\")\n",
    "df_entropy.fit(X_train, y_train)"
   ]
  },
  {
   "cell_type": "code",
   "execution_count": 47,
   "metadata": {
    "scrolled": true
   },
   "outputs": [
    {
     "data": {
      "image/png": "[encoded data removed]",
      "text/plain": [
       "<matplotlib.figure.Figure at 0x1171f6f28>"
      ]
     },
     "metadata": {},
     "output_type": "display_data"
    }
   ],
   "source": [
    "#to look at the features in detail\n",
    "%matplotlib inline\n",
    "\n",
    "feature_importance = df_entropy.feature_importances_\n",
    "feature_names = list(train.drop('target',1))\n",
    "feature_result = dict(zip(feature_names, feature_importance))\n",
    "feature_result_sorted = dict(sorted(feature_result.items(), key = lambda x:x[1]) )\n",
    "feature_result_sorted \n",
    "\n",
    "x_pos = np.arange(len(feature_names))\n",
    "\n",
    "plt.bar(x_pos, feature_result_sorted.values(), align='center', alpha=0.5 )\n",
    "plt.xticks(x_pos, feature_result_sorted.keys(), rotation=90)\n",
    "plt.ylabel('Feature Importance')\n",
    "\n",
    "plt.show()"
   ]
  },
  {
   "cell_type": "code",
   "execution_count": 48,
   "metadata": {},
   "outputs": [
    {
     "name": "stdout",
     "output_type": "stream",
     "text": [
      "The accuracy is:  0.63746835443\n"
     ]
    }
   ],
   "source": [
    "# to predict and calculate AUC  without any tuning\n",
    "dt_pred = df_entropy.predict(X_test)\n",
    "fpr_dt, tpr_dt, thresholds_dt = roc_curve(y_test, dt_pred)\n",
    "roc_auc_dt = auc(fpr_dt, tpr_dt)\n",
    "print(\"The accuracy is: \", accuracy_score(y_test, dt_pred))"
   ]
  },
  {
   "cell_type": "code",
   "execution_count": 52,
   "metadata": {},
   "outputs": [
    {
     "data": {
      "image/png": "[encoded data removed]",
      "text/plain": [
       "<matplotlib.figure.Figure at 0x11fc770f0>"
      ]
     },
     "metadata": {},
     "output_type": "display_data"
    }
   ],
   "source": [
    "#first comparison\n",
    "#ZC -to compare the models so far based on roc and auc, not tuned\n",
    "plt.figure()\n",
    "\n",
    "plt.plot(fpr_logit, tpr_logit,color='aqua', label='ROC for logistic Regression (area = %0.2f)' % roc_auc_logit)\n",
    "plt.plot(fpr_svm, tpr_svm,color='darkorange',label='ROC for svm (area = %0.2f)' % roc_auc_svm)\n",
    "plt.plot(fpr_dt, tpr_dt,color='pink',label='ROC for decision trees (area = %0.2f)' % roc_auc_dt)\n",
    "plt.plot(fpr_base, tpr_base, color='navy', linestyle='--',label='baseline ROC (area = %0.2f)' % roc_auc_base)\n",
    "plt.plot(fpr_base_2, tpr_base_2, color='red', linestyle='--',label='Improved baseline ROC (area = %0.2f)' % roc_auc_base_2)\n",
    "plt.xlim([0.0, 1.0])\n",
    "plt.ylim([0.0, 1.0])\n",
    "plt.xlabel('False Positive Rate')\n",
    "plt.ylabel('True Positive Rate')\n",
    "plt.title('ROC')\n",
    "plt.legend(bbox_to_anchor=(1.05, 1), loc=2, borderaxespad=0.)\n",
    "plt.show()"
   ]
  },
  {
   "cell_type": "code",
   "execution_count": 50,
   "metadata": {
    "collapsed": true
   },
   "outputs": [],
   "source": [
    "#see why the performance of decision tree is poor\n",
    "\n",
    "min_samples_leaf_values = np.linspace(200,1,num = 100, dtype = int)\n",
    "\n",
    "train_accuracy = []\n",
    "test_accuracy = []\n",
    "\n",
    "#for split in min_samples_split_values:\n",
    "for leaf_num in min_samples_leaf_values:\n",
    "    df_entropy_new = tree.DecisionTreeClassifier(criterion=\"entropy\", min_samples_leaf= leaf_num)\n",
    "    df_entropy_new.fit(X_train, y_train)\n",
    "    test_df_pred_new = df_entropy_new.predict(X_test)\n",
    "    train_df_pred_new = df_entropy_new.predict(X_train)\n",
    "    accuracy_test_df_new = accuracy_score(y_test,test_df_pred_new)\n",
    "    accuracy_train_df_new = accuracy_score(y_train,train_df_pred_new)\n",
    "    df_entropy_result_test = [leaf_num,accuracy_test_df_new]\n",
    "    df_entropy_result_train = [leaf_num,accuracy_train_df_new]\n",
    "    test_accuracy.append(df_entropy_result_test)\n",
    "    train_accuracy.append(df_entropy_result_train)"
   ]
  },
  {
   "cell_type": "code",
   "execution_count": 53,
   "metadata": {},
   "outputs": [
    {
     "data": {
      "image/png": "[encoded data removed]",
      "text/plain": [
       "<matplotlib.figure.Figure at 0x11fc66c50>"
      ]
     },
     "metadata": {},
     "output_type": "display_data"
    }
   ],
   "source": [
    "%matplotlib inline\n",
    "\n",
    "plt.figure()\n",
    "plt.plot([x[0] for x in test_accuracy],[x[1] for x in test_accuracy],label=\"test sample accuracy\")\n",
    "plt.plot([x[0] for x in train_accuracy],[x[1] for x in train_accuracy],label=\"train sample accuracy\")\n",
    "plt.gca().invert_xaxis()\n",
    "plt.legend(bbox_to_anchor=(1.05, 1), loc=2, borderaxespad=0.)\n",
    "\n",
    "plt.title(\"Accuracy Graph by minimum splits and minimum leaf number\")\n",
    "plt.xlabel(\"Model Complexity:min_sample_splits\")\n",
    "plt.ylabel(\"accuracy\")\n",
    "\n",
    "plt.show()"
   ]
  },
  {
   "cell_type": "code",
   "execution_count": 54,
   "metadata": {
    "collapsed": true
   },
   "outputs": [],
   "source": [
    "#As suspected, the low accuracy and AUC suffers from overfitting\n",
    "#therefore, we now try to find the hyper perimeter that optimize the model\n",
    "\n",
    "#split the data train/val/test = 70/10/20\n",
    "val_1 = train.sample(frac=0.1)\n",
    "train_1 = train.iloc[~train.index.isin(val_1.index), :]"
   ]
  },
  {
   "cell_type": "code",
   "execution_count": 55,
   "metadata": {
    "collapsed": true
   },
   "outputs": [],
   "source": [
    "#use validation set to find perimeters\n",
    "import math\n",
    "\n",
    "min_samples_split_values = np.linspace(2,1000,num = 10, dtype = int)\n",
    "min_samples_leaf_values = np.linspace(200,2,num = 10, dtype = int)\n",
    "\n",
    "df_entropy_list = []\n",
    "df_entropy_classifier_list = []\n",
    "\n",
    "for split in min_samples_split_values:\n",
    "    for leaf_num in min_samples_leaf_values:\n",
    "        df_entropy_new = tree.DecisionTreeClassifier(criterion=\"entropy\", min_samples_leaf= int(math.ceil(leaf_num)), min_samples_split = int(math.ceil(split)))\n",
    "        df_entropy_new.fit(train_1.drop('target',1), train_1['target'])\n",
    "        test_df_pred_new = df_entropy_new.predict(val_1.drop('target',1))\n",
    "        accuracy_test_df_new = accuracy_score(val_1['target'],test_df_pred_new)\n",
    "        df_entropy_result = [split,leaf_num,accuracy_test_df_new*100]\n",
    "        df_entropy_list.append(df_entropy_result)\n",
    "        df_entropy_classifier_list.append(df_entropy_new)"
   ]
  },
  {
   "cell_type": "code",
   "execution_count": 56,
   "metadata": {},
   "outputs": [
    {
     "data": {
      "image/png": "[encoded data removed]",
      "text/plain": [
       "<matplotlib.figure.Figure at 0x121393080>"
      ]
     },
     "metadata": {},
     "output_type": "display_data"
    }
   ],
   "source": [
    "#creat a dataframe from the previous result\n",
    "header_1 = [\"min_split\",\"min_leaf_num\",\"accuracy\"]\n",
    "result_df= pd.DataFrame(df_entropy_list, columns=header_1)\n",
    "\n",
    "#draw the graph\n",
    "for leaf_num in min_samples_leaf_values:\n",
    "    plt.plot(result_df.loc[result_df[\"min_leaf_num\"]==leaf_num,\"min_split\"],result_df.loc[result_df[\"min_leaf_num\"]==leaf_num,\"accuracy\"],label=\"min leaf num = \"+str(leaf_num))\n",
    "\n",
    "plt.legend(bbox_to_anchor=(1.05, 1), loc=2, borderaxespad=0.)\n",
    "\n",
    "plt.title(\"Accuracy Graph by minimum splits and minimum leaf number\")\n",
    "plt.xlabel(\"min_sample_splits\")\n",
    "plt.ylabel(\"accuracy\")\n",
    "\n",
    "plt.show()"
   ]
  },
  {
   "cell_type": "code",
   "execution_count": 57,
   "metadata": {},
   "outputs": [
    {
     "data": {
      "text/plain": [
       "min_split         2.000000\n",
       "min_leaf_num    200.000000\n",
       "accuracy         71.392405\n",
       "Name: 0, dtype: float64"
      ]
     },
     "execution_count": 57,
     "metadata": {},
     "output_type": "execute_result"
    }
   ],
   "source": [
    "result = result_df.loc[result_df[\"accuracy\"].idxmax()]\n",
    "leaf_num = result[1]\n",
    "split = result[0]\n",
    "result\n",
    "#min_split = 2, min_leaf_num = 200"
   ]
  },
  {
   "cell_type": "code",
   "execution_count": 58,
   "metadata": {},
   "outputs": [
    {
     "data": {
      "text/plain": [
       "DecisionTreeClassifier(class_weight=None, criterion='entropy', max_depth=None,\n",
       "            max_features=None, max_leaf_nodes=None,\n",
       "            min_impurity_split=1e-07, min_samples_leaf=200,\n",
       "            min_samples_split=2, min_weight_fraction_leaf=0.0,\n",
       "            presort=False, random_state=None, splitter='best')"
      ]
     },
     "execution_count": 58,
     "metadata": {},
     "output_type": "execute_result"
    }
   ],
   "source": [
    "df_entropy_new = tree.DecisionTreeClassifier(criterion=\"entropy\",min_samples_split=int(split),min_samples_leaf = int(leaf_num))\n",
    "df_entropy_new.fit(X_train, y_train)"
   ]
  },
  {
   "cell_type": "code",
   "execution_count": 59,
   "metadata": {},
   "outputs": [
    {
     "name": "stdout",
     "output_type": "stream",
     "text": [
      "The accuracy for the test data is:  0.713924050633\n",
      "The auc is:  0.714419775763\n"
     ]
    }
   ],
   "source": [
    "#calculate on the test set use predit (brut force label)\n",
    "dt_pred_1 = df_entropy_new.predict(X_test)\n",
    "print(\"The accuracy for the test data is: \", accuracy_score(y_test,df_entropy_new.predict(X_test)))\n",
    "fpr_dt_1, tpr_dt_1, thresholds_dt_1 = roc_curve(y_test, dt_pred_1)\n",
    "roc_auc_dt_1 = auc(fpr_dt_1, tpr_dt_1)\n",
    "print(\"The auc is: \",roc_auc_dt_1 )"
   ]
  },
  {
   "cell_type": "code",
   "execution_count": 60,
   "metadata": {},
   "outputs": [
    {
     "name": "stdout",
     "output_type": "stream",
     "text": [
      "The auc for improved decision tree is:  0.776007926577\n"
     ]
    },
    {
     "data": {
      "text/plain": [
       "0.71392405063291142"
      ]
     },
     "execution_count": 60,
     "metadata": {},
     "output_type": "execute_result"
    }
   ],
   "source": [
    "#try predit_proba (more granuler)\n",
    "dt_pred_2 = df_entropy_new.predict_proba(X_test)[:,1]\n",
    "fpr_dt_2, tpr_dt_2, thresholds_dt_2 = roc_curve(y_test, dt_pred_2)\n",
    "roc_auc_dt_2 = auc(fpr_dt_2, tpr_dt_2)\n",
    "print(\"The auc for improved decision tree is: \",roc_auc_dt_2)\n",
    "accuracy_score(y_test,df_entropy_new.predict(X_test))"
   ]
  },
  {
   "cell_type": "code",
   "execution_count": 61,
   "metadata": {},
   "outputs": [
    {
     "data": {
      "text/plain": [
       "30"
      ]
     },
     "execution_count": 61,
     "metadata": {},
     "output_type": "execute_result"
    }
   ],
   "source": [
    "len(thresholds_dt_2)"
   ]
  },
  {
   "cell_type": "code",
   "execution_count": 62,
   "metadata": {},
   "outputs": [
    {
     "data": {
      "image/png": "[encoded data removed]",
      "text/plain": [
       "<matplotlib.figure.Figure at 0x120543f60>"
      ]
     },
     "metadata": {},
     "output_type": "display_data"
    }
   ],
   "source": [
    "#plot the AUC and ROC of the test set\n",
    "plt.figure()\n",
    "\n",
    "plt.plot(fpr_logit, tpr_logit,color='aqua', label='ROC for logistic Regression (area = %0.2f)' % roc_auc_logit)\n",
    "plt.plot(fpr_logreg, tpr_logreg,color='green', label='ROC for Best logistic Regression (area = %0.2f)' % roc_auc_logreg)\n",
    "plt.plot(fpr_svm, tpr_svm,color='darkorange',label='ROC for svm (area = %0.2f)' % roc_auc_svm)\n",
    "plt.plot(fpr_svm_best, tpr_svm_best,color='purple',label='ROC for best svm (area = %0.2f)' % roc_auc_svm_best)\n",
    "plt.plot(fpr_dt_2, tpr_dt_2,color='pink',label='ROC for tuned decision trees (area = %0.2f)' % roc_auc_dt_2)\n",
    "plt.plot(fpr_base, tpr_base, color='navy', linestyle='--',label='baseline ROC (area = %0.2f)' % roc_auc_base)\n",
    "plt.plot(fpr_base_2, tpr_base_2, color='red', linestyle='--',label='improved baseline ROC (area = %0.2f)' % roc_auc_base_2)\n",
    "plt.xlim([0.0, 1.0])\n",
    "plt.ylim([0.0, 1.0])\n",
    "plt.xlabel('False Positive Rate')\n",
    "plt.ylabel('True Positive Rate')\n",
    "plt.title('ROC')\n",
    "plt.legend(bbox_to_anchor=(1.05, 1), loc=2, borderaxespad=0.)\n",
    "plt.show()"
   ]
  },
  {
   "cell_type": "markdown",
   "metadata": {},
   "source": [
    "### Random Forest"
   ]
  },
  {
   "cell_type": "code",
   "execution_count": 63,
   "metadata": {},
   "outputs": [
    {
     "name": "stdout",
     "output_type": "stream",
     "text": [
      "The accuracy of training set: 1.000\n",
      "The accuracy of test set: 0.730\n"
     ]
    }
   ],
   "source": [
    "# SunJoo\n",
    "from sklearn.ensemble import RandomForestClassifier\n",
    "from sklearn.model_selection import KFold\n",
    "\n",
    "rf =  RandomForestClassifier(n_estimators=100, random_state=42)\n",
    "rf.fit(X_train, y_train)\n",
    "\n",
    "print(\"The accuracy of training set: {:.3f}\".format(rf.score(X_train, y_train)))\n",
    "print(\"The accuracy of test set: {:.3f}\".format(rf.score(X_test, y_test)))"
   ]
  },
  {
   "cell_type": "code",
   "execution_count": 64,
   "metadata": {},
   "outputs": [
    {
     "name": "stdout",
     "output_type": "stream",
     "text": [
      "AUC for random forest is:  0.798022772987\n"
     ]
    }
   ],
   "source": [
    "from sklearn.metrics import roc_curve, auc, roc_auc_score\n",
    "\n",
    "y_prob_rf = rf.predict_proba(X_test)[:, 1]\n",
    "\n",
    "fpr_rf, tpr_rf, threshold = roc_curve(y_test, y_prob_rf)\n",
    "roc_auc_rf = auc(fpr_rf, tpr_rf)\n",
    "print(\"AUC for random forest is: \", roc_auc_rf)"
   ]
  },
  {
   "cell_type": "code",
   "execution_count": 65,
   "metadata": {},
   "outputs": [
    {
     "name": "stdout",
     "output_type": "stream",
     "text": [
      "Fitting 4 folds for each of 10 candidates, totalling 40 fits\n"
     ]
    },
    {
     "name": "stderr",
     "output_type": "stream",
     "text": [
      "[Parallel(n_jobs=-1)]: Done  40 out of  40 | elapsed:  1.5min finished\n"
     ]
    },
    {
     "data": {
      "text/plain": [
       "RandomizedSearchCV(cv=4, error_score='raise',\n",
       "          estimator=RandomForestClassifier(bootstrap=True, class_weight=None, criterion='gini',\n",
       "            max_depth=None, max_features='auto', max_leaf_nodes=None,\n",
       "            min_impurity_split=1e-07, min_samples_leaf=1,\n",
       "            min_samples_split=2, min_weight_fraction_leaf=0.0,\n",
       "            n_estimators=100, n_jobs=1, oob_score=False, random_state=42,\n",
       "            verbose=0, warm_start=False),\n",
       "          fit_params={}, iid=True, n_iter=10, n_jobs=-1,\n",
       "          param_distributions={'n_estimators': array([100, 112, 124, 136, 148, 161, 173, 185, 197, 210, 222, 234, 246,\n",
       "       259, 271, 283, 295, 308, 320, 332, 344, 357, 369, 381, 393, 406,\n",
       "       418, 430, 442, 455, 467, 479, 491, 504, 516, 528, 540, 553, 565,\n",
       "       577, 589, 602, 614, 626, 638, 651, 663, 675, 687, 700]), 'max_features': ['auto', 'sqrt'], 'bootstrap': [True]},\n",
       "          pre_dispatch='2*n_jobs', random_state=42, refit=True,\n",
       "          return_train_score=True, scoring=None, verbose=1)"
      ]
     },
     "execution_count": 65,
     "metadata": {},
     "output_type": "execute_result"
    }
   ],
   "source": [
    "#Random Search for RF\n",
    "from sklearn.model_selection import RandomizedSearchCV\n",
    "\n",
    "# Hyperparameter grid\n",
    "param_grid = {\n",
    "    'n_estimators': np.linspace(100, 700).astype(int),\n",
    "    'max_features': ['auto', 'sqrt'],\n",
    "    'bootstrap': [True]\n",
    "}\n",
    "\n",
    "# Create the random search model\n",
    "rs = RandomizedSearchCV(rf, param_grid, n_jobs = -1, cv = 4, \n",
    "                        n_iter = 10, verbose = 1, random_state=42)\n",
    "\n",
    "# Fit \n",
    "rs.fit(X_train, y_train)"
   ]
  },
  {
   "cell_type": "code",
   "execution_count": 66,
   "metadata": {},
   "outputs": [
    {
     "data": {
      "text/plain": [
       "{'bootstrap': True, 'max_features': 'sqrt', 'n_estimators': 504}"
      ]
     },
     "execution_count": 66,
     "metadata": {},
     "output_type": "execute_result"
    }
   ],
   "source": [
    "rs.best_params_"
   ]
  },
  {
   "cell_type": "code",
   "execution_count": 67,
   "metadata": {
    "collapsed": true
   },
   "outputs": [],
   "source": [
    "n_est = [200, 500, 700, 1000]\n",
    "m_feat = [3, 5, 7]\n",
    "\n",
    "aucs_test = {}\n",
    "\n",
    "lab = 'target'\n",
    "\n",
    "for m in m_feat:\n",
    "    aucs_test[m] = []\n",
    "    for n in n_est:\n",
    "        rf_oob = RandomForestClassifier(criterion='entropy', n_estimators=n, max_features=m, oob_score=True)\n",
    "        rf_oob = rf_oob.fit(train.drop(lab, 1), train[lab])\n",
    "        aucs_test[m].append(roc_auc_score(test[lab], rf_oob.predict_proba(test.drop(lab,1))[:,1]))"
   ]
  },
  {
   "cell_type": "code",
   "execution_count": 68,
   "metadata": {},
   "outputs": [
    {
     "data": {
      "image/png": "[encoded data removed]",
      "text/plain": [
       "<matplotlib.figure.Figure at 0x1192f0f60>"
      ]
     },
     "metadata": {},
     "output_type": "display_data"
    }
   ],
   "source": [
    "x = np.log2(np.array(n_est))\n",
    "for m in m_feat:\n",
    "    plt.plot(x, aucs_test[m], label='max_feat={}'.format(m))\n",
    "    \n",
    "plt.title('Test AUC by Max Feat and N-Estimators')\n",
    "plt.xlabel('Log2(N-Estimators)')\n",
    "plt.ylabel('Test-AUC')\n",
    "plt.legend(loc=4, ncol=2, prop={'size':10})\n",
    "plt.show()"
   ]
  },
  {
   "cell_type": "code",
   "execution_count": 69,
   "metadata": {
    "collapsed": true
   },
   "outputs": [],
   "source": [
    "best_model = RandomForestClassifier(criterion='entropy', n_estimators=700, max_features=3,bootstrap='True',oob_score=True)"
   ]
  },
  {
   "cell_type": "code",
   "execution_count": 70,
   "metadata": {},
   "outputs": [
    {
     "name": "stdout",
     "output_type": "stream",
     "text": [
      "The accuracy of training set: 1.000\n",
      "The accuracy of test set: 0.735\n"
     ]
    }
   ],
   "source": [
    "best_model.fit(X_train, y_train)\n",
    "\n",
    "print(\"The accuracy of training set: {:.3f}\".format(best_model.score(X_train, y_train)))\n",
    "print(\"The accuracy of test set: {:.3f}\".format(best_model.score(X_test, y_test)))"
   ]
  },
  {
   "cell_type": "code",
   "execution_count": 71,
   "metadata": {},
   "outputs": [
    {
     "name": "stdout",
     "output_type": "stream",
     "text": [
      "Test accuacy for random forest is:  0.727575244834\n"
     ]
    }
   ],
   "source": [
    "rf_acc = cross_val_score(best_model, X_test, y_test, cv=kfold, scoring = 'accuracy').mean()\n",
    "print(\"Test accuacy for random forest is: \", rf_acc)"
   ]
  },
  {
   "cell_type": "code",
   "execution_count": 72,
   "metadata": {
    "scrolled": true
   },
   "outputs": [
    {
     "name": "stdout",
     "output_type": "stream",
     "text": [
      "AUC for the best random forest is:  0.803910177783\n"
     ]
    }
   ],
   "source": [
    "best_rf_probs = best_model.predict_proba(X_test)[:, 1]\n",
    "\n",
    "fpr_rf_best, tpr_rf_best, threshold_rf_best = roc_curve(y_test, best_rf_probs)\n",
    "roc_auc_rf_best = auc(fpr_rf_best, tpr_rf_best)\n",
    "\n",
    "print(\"AUC for the best random forest is: \", roc_auc_rf_best)"
   ]
  },
  {
   "cell_type": "code",
   "execution_count": 73,
   "metadata": {},
   "outputs": [
    {
     "data": {
      "text/plain": [
       "[]"
      ]
     },
     "execution_count": 73,
     "metadata": {},
     "output_type": "execute_result"
    },
    {
     "data": {
      "image/png": "[encoded data removed]",
      "text/plain": [
       "<matplotlib.figure.Figure at 0x1171bdf98>"
      ]
     },
     "metadata": {},
     "output_type": "display_data"
    }
   ],
   "source": [
    "\n",
    "# Plot feature importance\n",
    "%matplotlib inline\n",
    "\n",
    "features = X.columns.values\n",
    "n_features = X.shape[1]\n",
    "indices = np.argsort(best_model.feature_importances_)\n",
    "\n",
    "plt.barh(range(n_features), best_model.feature_importances_[indices], align='center')\n",
    "plt.yticks(np.arange(n_features), [features[i] for i in indices])\n",
    "plt.xlabel(\"Feature Importance\")\n",
    "plt.ylabel(\"Features\")\n",
    "plt.ylim(-1, n_features)\n",
    "plt.plot()"
   ]
  },
  {
   "cell_type": "code",
   "execution_count": 74,
   "metadata": {
    "scrolled": true
   },
   "outputs": [
    {
     "data": {
      "text/html": [
       "<div>\n",
       "<style>\n",
       "    .dataframe thead tr:only-child th {\n",
       "        text-align: right;\n",
       "    }\n",
       "\n",
       "    .dataframe thead th {\n",
       "        text-align: left;\n",
       "    }\n",
       "\n",
       "    .dataframe tbody tr th {\n",
       "        vertical-align: top;\n",
       "    }\n",
       "</style>\n",
       "<table border=\"1\" class=\"dataframe\">\n",
       "  <thead>\n",
       "    <tr style=\"text-align: right;\">\n",
       "      <th></th>\n",
       "      <th>Importance</th>\n",
       "    </tr>\n",
       "  </thead>\n",
       "  <tbody>\n",
       "    <tr>\n",
       "      <th>ExternalRiskEstimate</th>\n",
       "      <td>0.100728</td>\n",
       "    </tr>\n",
       "    <tr>\n",
       "      <th>NetFractionRevolvingBurden</th>\n",
       "      <td>0.081650</td>\n",
       "    </tr>\n",
       "    <tr>\n",
       "      <th>AverageMInFile</th>\n",
       "      <td>0.077617</td>\n",
       "    </tr>\n",
       "    <tr>\n",
       "      <th>MSinceOldestTradeOpen</th>\n",
       "      <td>0.069752</td>\n",
       "    </tr>\n",
       "    <tr>\n",
       "      <th>PercentTradesWBalance</th>\n",
       "      <td>0.059333</td>\n",
       "    </tr>\n",
       "    <tr>\n",
       "      <th>NetFractionInstallBurden</th>\n",
       "      <td>0.057457</td>\n",
       "    </tr>\n",
       "    <tr>\n",
       "      <th>PercentInstallTrades</th>\n",
       "      <td>0.057273</td>\n",
       "    </tr>\n",
       "    <tr>\n",
       "      <th>NumSatisfactoryTrades</th>\n",
       "      <td>0.055089</td>\n",
       "    </tr>\n",
       "    <tr>\n",
       "      <th>NumTotalTrades</th>\n",
       "      <td>0.052653</td>\n",
       "    </tr>\n",
       "    <tr>\n",
       "      <th>MSinceMostRecentTradeOpen</th>\n",
       "      <td>0.045904</td>\n",
       "    </tr>\n",
       "    <tr>\n",
       "      <th>PercentTradesNeverDelq</th>\n",
       "      <td>0.042982</td>\n",
       "    </tr>\n",
       "    <tr>\n",
       "      <th>MSinceMostRecentDelq</th>\n",
       "      <td>0.039947</td>\n",
       "    </tr>\n",
       "    <tr>\n",
       "      <th>NumRevolvingTradesWBalance</th>\n",
       "      <td>0.037582</td>\n",
       "    </tr>\n",
       "    <tr>\n",
       "      <th>MSinceMostRecentInqexcl7days</th>\n",
       "      <td>0.031531</td>\n",
       "    </tr>\n",
       "    <tr>\n",
       "      <th>NumTradesOpeninLast12M</th>\n",
       "      <td>0.028470</td>\n",
       "    </tr>\n",
       "    <tr>\n",
       "      <th>NumBank2NatlTradesWHighUtilization</th>\n",
       "      <td>0.026552</td>\n",
       "    </tr>\n",
       "    <tr>\n",
       "      <th>NumInstallTradesWBalance</th>\n",
       "      <td>0.025199</td>\n",
       "    </tr>\n",
       "    <tr>\n",
       "      <th>NumInqLast6M</th>\n",
       "      <td>0.024867</td>\n",
       "    </tr>\n",
       "    <tr>\n",
       "      <th>NumInqLast6Mexcl7days</th>\n",
       "      <td>0.023650</td>\n",
       "    </tr>\n",
       "    <tr>\n",
       "      <th>MaxDelqEver</th>\n",
       "      <td>0.019134</td>\n",
       "    </tr>\n",
       "    <tr>\n",
       "      <th>MaxDelq2PublicRecLast12M</th>\n",
       "      <td>0.016833</td>\n",
       "    </tr>\n",
       "    <tr>\n",
       "      <th>NumTrades60Ever2DerogPubRec</th>\n",
       "      <td>0.014988</td>\n",
       "    </tr>\n",
       "    <tr>\n",
       "      <th>NumTrades90Ever2DerogPubRec</th>\n",
       "      <td>0.010811</td>\n",
       "    </tr>\n",
       "  </tbody>\n",
       "</table>\n",
       "</div>"
      ],
      "text/plain": [
       "                                    Importance\n",
       "ExternalRiskEstimate                  0.100728\n",
       "NetFractionRevolvingBurden            0.081650\n",
       "AverageMInFile                        0.077617\n",
       "MSinceOldestTradeOpen                 0.069752\n",
       "PercentTradesWBalance                 0.059333\n",
       "NetFractionInstallBurden              0.057457\n",
       "PercentInstallTrades                  0.057273\n",
       "NumSatisfactoryTrades                 0.055089\n",
       "NumTotalTrades                        0.052653\n",
       "MSinceMostRecentTradeOpen             0.045904\n",
       "PercentTradesNeverDelq                0.042982\n",
       "MSinceMostRecentDelq                  0.039947\n",
       "NumRevolvingTradesWBalance            0.037582\n",
       "MSinceMostRecentInqexcl7days          0.031531\n",
       "NumTradesOpeninLast12M                0.028470\n",
       "NumBank2NatlTradesWHighUtilization    0.026552\n",
       "NumInstallTradesWBalance              0.025199\n",
       "NumInqLast6M                          0.024867\n",
       "NumInqLast6Mexcl7days                 0.023650\n",
       "MaxDelqEver                           0.019134\n",
       "MaxDelq2PublicRecLast12M              0.016833\n",
       "NumTrades60Ever2DerogPubRec           0.014988\n",
       "NumTrades90Ever2DerogPubRec           0.010811"
      ]
     },
     "execution_count": 74,
     "metadata": {},
     "output_type": "execute_result"
    }
   ],
   "source": [
    "feature_importances = pd.DataFrame(best_model.feature_importances_, index = X.columns.values,\n",
    "                                    columns=['Importance']).sort_values('Importance', ascending=False)\n",
    "feature_importances"
   ]
  },
  {
   "cell_type": "markdown",
   "metadata": {},
   "source": [
    "### Feature Reduction (not needed)"
   ]
  },
  {
   "cell_type": "code",
   "execution_count": null,
   "metadata": {},
   "outputs": [],
   "source": [
    "importances = list(best_model.feature_importances_)\n",
    "feature_importances = [(feature, round(importance, 2)) for feature, importance in zip(features, importances)]\n",
    "feature_importances = sorted(feature_importances, key=lambda x: x[1], reverse = True)\n",
    "\n",
    "print('Variable: {:20} Importance: {}'.format(*pair) for pair in feature_importances)\n",
    "\n",
    "# List of features sorted from most to least important\n",
    "sorted_importances = [importance[1] for importance in feature_importances]\n",
    "sorted_features = [importance[0] for importance in feature_importances]\n",
    "\n",
    "# Cumulative importances\n",
    "cumulative_importances = np.cumsum(sorted_importances)\n",
    "\n",
    "# Make a line graph\n",
    "plt.plot(list(range(len(importances))), cumulative_importances, 'g-')\n",
    "\n",
    "# Draw line at 95% of importance retained\n",
    "plt.hlines(y = 0.95, xmin=0, xmax=len(sorted_importances), color = 'r', linestyles = 'dashed')\n",
    "\n",
    "# Format x ticks and labels\n",
    "plt.xticks(list(range(len(importances))), sorted_features, rotation = 'vertical')\n",
    "\n",
    "# Axis labels and title\n",
    "plt.xlabel('Variable'); plt.ylabel('Cumulative Importance'); plt.title('Cumulative Importances');"
   ]
  },
  {
   "cell_type": "code",
   "execution_count": null,
   "metadata": {},
   "outputs": [],
   "source": [
    "print('Number of features for 80% importance:', np.where(cumulative_importances>0.80)[0][0]+1)"
   ]
  },
  {
   "cell_type": "markdown",
   "metadata": {},
   "source": [
    "### Ada Boost Classifier"
   ]
  },
  {
   "cell_type": "code",
   "execution_count": 75,
   "metadata": {},
   "outputs": [
    {
     "data": {
      "text/plain": [
       "0.72340425531914887"
      ]
     },
     "execution_count": 75,
     "metadata": {},
     "output_type": "execute_result"
    }
   ],
   "source": [
    "from sklearn.model_selection import cross_val_score\n",
    "from sklearn.ensemble import AdaBoostClassifier\n",
    "Ada = AdaBoostClassifier(n_estimators=50)\n",
    "Ada_model = Ada.fit(X_train, y_train)\n",
    "\n",
    "scores = cross_val_score(Ada_model, X_train, y_train)\n",
    "scores.mean()"
   ]
  },
  {
   "cell_type": "code",
   "execution_count": 76,
   "metadata": {},
   "outputs": [
    {
     "name": "stdout",
     "output_type": "stream",
     "text": [
      "Test accuacy for ada boost classifier is:  0.710862431421\n",
      "AUC for ada boost classifier is:  0.795889089553\n"
     ]
    }
   ],
   "source": [
    "# Accuracy, ptr,ftr, thresold, and AUC for Ada Boost\n",
    "kfold = KFold(n_splits=10, random_state = 42)\n",
    "ada_cv_acc = cross_val_score(Ada_model, X_test, y_test, cv=kfold, scoring = 'accuracy').mean()\n",
    "print(\"Test accuacy for ada boost classifier is: \", ada_cv_acc)\n",
    "y_prob_ada = Ada_model.predict_proba(X_test)[:, 1]\n",
    "fpr_ada, tpr_ada, threshold = roc_curve(y_test, y_prob_ada)\n",
    "roc_auc_ada = auc(fpr_ada, tpr_ada)\n",
    "print(\"AUC for ada boost classifier is: \", roc_auc_ada)"
   ]
  },
  {
   "cell_type": "code",
   "execution_count": 77,
   "metadata": {},
   "outputs": [
    {
     "name": "stdout",
     "output_type": "stream",
     "text": [
      "{'learning_rate': 0.3, 'n_estimators': 100}\n"
     ]
    }
   ],
   "source": [
    "# Ada Boost with Grid Search\n",
    "param_grid = {\n",
    "              'n_estimators': [50, 100],\n",
    "              'learning_rate' : [0.01,0.05,0.1,0.3,1]\n",
    "             }\n",
    "grid_search_Ada = GridSearchCV(Ada_model, param_grid=param_grid, scoring = 'accuracy',cv=4)\n",
    "grid_search_Ada.fit(X_train,y_train)\n",
    "print(grid_search_Ada.best_params_)"
   ]
  },
  {
   "cell_type": "code",
   "execution_count": 78,
   "metadata": {
    "scrolled": true
   },
   "outputs": [
    {
     "name": "stdout",
     "output_type": "stream",
     "text": [
      "Test accuacy for ada boost classifier is:  0.727577808542\n",
      "AUC for ada boost classifier is:  0.801257712387\n"
     ]
    }
   ],
   "source": [
    "# Accuracy, ptr,ftr, thresold, and AUC for Ada Boost w Grid Search\n",
    "ada_grid_acc = cross_val_score(grid_search_Ada, X_test, y_test, cv=kfold, scoring = 'accuracy').mean()\n",
    "print(\"Test accuacy for ada boost classifier is: \", ada_grid_acc)\n",
    "y_prob_ada2 = grid_search_Ada.predict_proba(X_test)[:, 1]\n",
    "fpr_ada2, tpr_ada2, threshold_ada2 = roc_curve(y_test, y_prob_ada2)\n",
    "roc_auc_ada2 = auc(fpr_ada2, tpr_ada2)\n",
    "print(\"AUC for ada boost classifier is: \", roc_auc_ada2)"
   ]
  },
  {
   "cell_type": "markdown",
   "metadata": {},
   "source": [
    "### Neural Network"
   ]
  },
  {
   "cell_type": "code",
   "execution_count": 79,
   "metadata": {},
   "outputs": [
    {
     "name": "stdout",
     "output_type": "stream",
     "text": [
      "0.771403242148\n",
      "[[679 267]\n",
      " [262 767]]\n",
      "             precision    recall  f1-score   support\n",
      "\n",
      "          0       0.72      0.72      0.72       946\n",
      "          1       0.74      0.75      0.74      1029\n",
      "\n",
      "avg / total       0.73      0.73      0.73      1975\n",
      "\n"
     ]
    }
   ],
   "source": [
    "# Neural Network\n",
    "from sklearn.neural_network import MLPClassifier\n",
    "mlp = MLPClassifier(max_iter=100)\n",
    "mlp_model = mlp.fit(X_train,y_train)\n",
    "\n",
    "print(mlp.score(X_train, y_train))\n",
    "predictions = mlp.predict(X_test)\n",
    "\n",
    "from sklearn.metrics import classification_report,confusion_matrix\n",
    "print(confusion_matrix(y_test,predictions))\n",
    "print(classification_report(y_test,predictions))"
   ]
  },
  {
   "cell_type": "code",
   "execution_count": 80,
   "metadata": {},
   "outputs": [
    {
     "name": "stdout",
     "output_type": "stream",
     "text": [
      "Test accuacy for neural network is:  0.714400348664\n",
      "AUC for ada boost classifier is:  0.793989114824\n"
     ]
    }
   ],
   "source": [
    "#print('test accuracy:', accuracy_score(y_test, predictions))\n",
    "# accuracy, ptr,ftr, thresold, and AUC for neural network\n",
    "kfold = KFold(n_splits=10, random_state = 42)\n",
    "mlp_cv_acc = cross_val_score(mlp_model, X_test, y_test, cv=kfold, scoring = 'accuracy').mean()\n",
    "print(\"Test accuacy for neural network is: \", mlp_cv_acc)\n",
    "y_prob_mlp = mlp_model.predict_proba(X_test)[:, 1]\n",
    "fpr_mlp, tpr_mlp, threshold = roc_curve(y_test, y_prob_mlp)\n",
    "roc_auc_mlp = auc(fpr_mlp, tpr_mlp)\n",
    "print(\"AUC for ada boost classifier is: \", roc_auc_mlp)"
   ]
  },
  {
   "cell_type": "code",
   "execution_count": 81,
   "metadata": {
    "scrolled": true
   },
   "outputs": [
    {
     "data": {
      "text/plain": [
       "GridSearchCV(cv=4, error_score='raise',\n",
       "       estimator=MLPClassifier(activation='relu', alpha=0.0001, batch_size='auto', beta_1=0.9,\n",
       "       beta_2=0.999, early_stopping=False, epsilon=1e-08,\n",
       "       hidden_layer_sizes=(100,), learning_rate='constant',\n",
       "       learning_rate_init=0.001, max_iter=100, momentum=0.9,\n",
       "       nesterovs_momentum=True, power_t=0.5, random_state=None,\n",
       "       shuffle=True, solver='adam', tol=0.0001, validation_fraction=0.1,\n",
       "       verbose=False, warm_start=False),\n",
       "       fit_params={}, iid=True, n_jobs=-1,\n",
       "       param_grid={'hidden_layer_sizes': [(50, 50, 50), (50, 100, 50), (100,)], 'activation': ['tanh', 'relu'], 'solver': ['sgd', 'adam'], 'alpha': [0.0001, 0.05], 'learning_rate': ['constant', 'adaptive']},\n",
       "       pre_dispatch='2*n_jobs', refit=True, return_train_score=True,\n",
       "       scoring=None, verbose=0)"
      ]
     },
     "execution_count": 81,
     "metadata": {},
     "output_type": "execute_result"
    }
   ],
   "source": [
    "# neural network with grid search\n",
    "parameter_space = {\n",
    "    'hidden_layer_sizes': [(50,50,50), (50,100,50), (100,)],\n",
    "    'activation': ['tanh', 'relu'],\n",
    "    'solver': ['sgd', 'adam'],\n",
    "    'alpha': [0.0001, 0.05],\n",
    "    'learning_rate': ['constant','adaptive'],\n",
    "}\n",
    "\n",
    "\n",
    "mlp_grid = GridSearchCV(mlp_model, parameter_space, n_jobs=-1, cv=4)\n",
    "mlp_grid.fit(X_train, y_train)"
   ]
  },
  {
   "cell_type": "code",
   "execution_count": 82,
   "metadata": {},
   "outputs": [
    {
     "name": "stdout",
     "output_type": "stream",
     "text": [
      "AUC for neural network with Grid Search is:  0.808849906619\n"
     ]
    }
   ],
   "source": [
    "y_prob_mlp2 = mlp_grid.predict_proba(X_test)[:, 1]\n",
    "fpr_mlp2, tpr_mlp2, threshold2 = roc_curve(y_test, y_prob_mlp2)\n",
    "roc_auc_mlp2 = auc(fpr_mlp2, tpr_mlp2)\n",
    "print(\"AUC for neural network with Grid Search is: \", roc_auc_mlp2)"
   ]
  },
  {
   "cell_type": "markdown",
   "metadata": {},
   "source": [
    "#### c.f."
   ]
  },
  {
   "cell_type": "code",
   "execution_count": 83,
   "metadata": {},
   "outputs": [
    {
     "data": {
      "text/plain": [
       "['PercentTradesWBalance',\n",
       " 'NumBank2NatlTradesWHighUtilization',\n",
       " 'NumInstallTradesWBalance',\n",
       " 'NumRevolvingTradesWBalance',\n",
       " 'NetFractionInstallBurden',\n",
       " 'NetFractionRevolvingBurden',\n",
       " 'MSinceMostRecentInqexcl7days',\n",
       " 'MSinceMostRecentDelq',\n",
       " 'MSinceOldestTradeOpen',\n",
       " 'ExternalRiskEstimate',\n",
       " 'MSinceMostRecentTradeOpen',\n",
       " 'AverageMInFile',\n",
       " 'NumSatisfactoryTrades',\n",
       " 'NumTrades60Ever2DerogPubRec',\n",
       " 'NumTrades90Ever2DerogPubRec',\n",
       " 'PercentTradesNeverDelq',\n",
       " 'MaxDelq2PublicRecLast12M',\n",
       " 'MaxDelqEver',\n",
       " 'NumTotalTrades',\n",
       " 'NumTradesOpeninLast12M',\n",
       " 'PercentInstallTrades',\n",
       " 'NumInqLast6M',\n",
       " 'NumInqLast6Mexcl7days']"
      ]
     },
     "execution_count": 83,
     "metadata": {},
     "output_type": "execute_result"
    }
   ],
   "source": [
    "train = df.sample(frac=0.8)\n",
    "test = df.loc[~df.index.isin(train.index), :]\n",
    "list(df.drop('target',1))"
   ]
  },
  {
   "cell_type": "markdown",
   "metadata": {},
   "source": [
    "## Models Comparison & Evaluation"
   ]
  },
  {
   "cell_type": "code",
   "execution_count": 84,
   "metadata": {},
   "outputs": [
    {
     "data": {
      "image/png": "[encoded data removed]",
      "text/plain": [
       "<matplotlib.figure.Figure at 0x121384908>"
      ]
     },
     "metadata": {},
     "output_type": "display_data"
    }
   ],
   "source": [
    "#ZC -to compare the models so far based on roc and auc\n",
    "plt.figure()\n",
    "\n",
    "plt.plot(fpr_logit, tpr_logit,color='aqua', label='Logistic Regression (area = %0.2f)' % roc_auc_logit)\n",
    "plt.plot(fpr_logreg, tpr_logreg,color='green', label='Best Logistic Regression (area = %0.2f)' % roc_auc_logreg)\n",
    "plt.plot(fpr_svm, tpr_svm,color='darkorange',label='SVM (area = %0.2f)' % roc_auc_svm)\n",
    "plt.plot(fpr_svm_best, tpr_svm_best,color='purple',label='best SVM (area = %0.2f)' % roc_auc_svm_best)\n",
    "plt.plot(fpr_dt_2, tpr_dt_2,color='pink',label='Decision Trees (area = %0.2f)' % roc_auc_dt_2)\n",
    "plt.plot(fpr_base, tpr_base, color='navy', linestyle='--',label='Baseline Model (area = %0.2f)' % roc_auc_base)\n",
    "plt.plot(fpr_base_2, tpr_base_2, color='red', linestyle='--',label='Improved Baseline Model (area = %0.2f)' % roc_auc_base_2)\n",
    "plt.plot(fpr_rf_best, tpr_rf_best, color='brown', label='Random Forest (area = %0.2f)' % roc_auc_rf_best)\n",
    "plt.plot(fpr_ada2, tpr_ada2, color='blue', label='ada booster (area = %0.2f)' % roc_auc_ada2)\n",
    "plt.plot(fpr_mlp2, tpr_mlp2, color='grey', label='neural network (area = %0.2f)' % roc_auc_mlp2)\n",
    "plt.plot()\n",
    "plt.xlim([0.0, 1.0])\n",
    "plt.ylim([0.0, 1.0])\n",
    "plt.xlabel('False Positive Rate')\n",
    "plt.ylabel('True Positive Rate')\n",
    "plt.title('ROC')\n",
    "plt.legend(bbox_to_anchor=(1.05, 1), loc=2, borderaxespad=0.)\n",
    "plt.show()"
   ]
  },
  {
   "cell_type": "markdown",
   "metadata": {},
   "source": [
    "### Evaluation - sunjoo"
   ]
  },
  {
   "cell_type": "code",
   "execution_count": 85,
   "metadata": {
    "scrolled": false
   },
   "outputs": [
    {
     "name": "stdout",
     "output_type": "stream",
     "text": [
      "Logistc Regression: 0.730600 (0.024474)\n",
      "svm: 0.733151 (0.013815)\n",
      "Decision Tree: 0.706822 (0.020845)\n",
      "Random Forest: 0.724030 (0.026165)\n",
      "Ada Boost: 0.727070 (0.016835)\n",
      "Neural Networks: 0.733646 (0.015311)\n"
     ]
    },
    {
     "data": {
      "image/png": "[encoded data removed]",
      "text/plain": [
       "<matplotlib.figure.Figure at 0x1192e8b00>"
      ]
     },
     "metadata": {},
     "output_type": "display_data"
    }
   ],
   "source": [
    "from sklearn.model_selection import cross_val_score\n",
    "\n",
    "models = []\n",
    "models.append(('Logistc Regression', best_grid_2))\n",
    "models.append(('svm', best_grid_svm))\n",
    "models.append(('Decision Tree', df_entropy_new))\n",
    "models.append(('Random Forest',best_model))\n",
    "models.append(('Ada Boost', grid_search_Ada))\n",
    "models.append(('Neural Networks', mlp_grid))\n",
    "\n",
    "results = []\n",
    "names = []\n",
    "scoring = 'accuracy'\n",
    "for name, model in models:\n",
    "    kfold = KFold(n_splits=10, random_state = 42)\n",
    "    cv_results = cross_val_score(model, X_test, y_test, cv=kfold, scoring = scoring)\n",
    "    results.append(cv_results)\n",
    "    names.append(name)\n",
    "    msg = '%s: %f (%f)' %(name, cv_results.mean(),cv_results.std())\n",
    "    print(msg)\n",
    "    \n",
    "fig = plt.figure()\n",
    "fig.suptitle('Algorithm Comparison - Mean Accuracy')\n",
    "ax = fig.add_subplot(111)\n",
    "plt.boxplot(results, showmeans=True)\n",
    "plt.hlines(0.704, 0,7, color='r')\n",
    "ax.set_xticklabels(names,rotation=60,label='Base Model')\n",
    "plt.show()"
   ]
  },
  {
   "cell_type": "code",
   "execution_count": null,
   "metadata": {
    "collapsed": true
   },
   "outputs": [],
   "source": []
  },
  {
   "cell_type": "markdown",
   "metadata": {},
   "source": [
    "### Cost and Benefit Analysis (Expectation)"
   ]
  },
  {
   "cell_type": "markdown",
   "metadata": {},
   "source": [
    "The simplified version of expected profit and loss:\n",
    "tpr: high-risk people are correctly identified and are denied with loan extentions.\n",
    "\n",
    "profit and cost implication: no major loss. just a small sevice fee: assume it takes one week to review the loan by a full-time banker and there's no additional cost other than his/her salary, then the cost is  $30∗9∗5=$1350$ per applicant for the bank\n",
    "\n",
    "fpr: low-risk people are incorrect identified as high-risk people and are denied with loan extentions\n",
    "\n",
    "profit and cost implication: same as tpr, small service fee =  $1350$per applicant for the bank\n",
    "\n",
    "tnr: people with low-risk are approved with their loan application\n",
    "\n",
    "profit and cost implication: assume everyone is applying for a  $200K$ loan with a 30 year fixed rate. under the current market, interest is on average  $4.7\\%$ (annualized rate) which means an expected revenue of  $173K$ at the end of the 30 years payment. In the meantime, the cost would be the borrowing cost for the bank on this amount. let's assume the bank is borrowing from the fed with a current rate of  $3.32\\%$ in concensus with the yield on 30 year treasury bond. After including this cost plus the service fee, the expected profit is  $43K$  after have each monthly payment discounted back for each applicant.\n",
    "\n",
    "fnr: people with high-risk are approved with their loan application\n",
    "\n",
    "profit and cost implication: In the simple case, we also assume that such applicant will default before the first payment, meaning we lose all the notional  $200K$ , in addition we need to pay back the interest amount for the $200K$ borrowed from the fed. However, since the loan is for home owners, one can at least assume that the bank can get the house back as a collateral and have part of the notional back to pay back fed (i.e,foreclosure). Let's assume that the bank incur a cost of  $10\\%$ of the notional plus the service in this case."
   ]
  },
  {
   "cell_type": "code",
   "execution_count": 86,
   "metadata": {
    "collapsed": true
   },
   "outputs": [],
   "source": [
    "def monthly_payment(total,apr):\n",
    "    if apr == 0:\n",
    "        return total / 30 / 12\n",
    "    r = apr / 12 /100\n",
    "    return r * total / (1 - (1+r)**(-12*30))"
   ]
  },
  {
   "cell_type": "code",
   "execution_count": 87,
   "metadata": {},
   "outputs": [
    {
     "data": {
      "text/plain": [
       "144699.94883357026"
      ]
     },
     "execution_count": 87,
     "metadata": {},
     "output_type": "execute_result"
    }
   ],
   "source": [
    "monthly_payment(77500,4.7) * 12 * 30"
   ]
  },
  {
   "cell_type": "code",
   "execution_count": 88,
   "metadata": {},
   "outputs": [
    {
     "data": {
      "text/plain": [
       "61.67480635507002"
      ]
     },
     "execution_count": 88,
     "metadata": {},
     "output_type": "execute_result"
    }
   ],
   "source": [
    "p_m = monthly_payment(77500,4.7) - monthly_payment(77500, 3.32)\n",
    "p_m"
   ]
  },
  {
   "cell_type": "code",
   "execution_count": 89,
   "metadata": {
    "collapsed": true
   },
   "outputs": [],
   "source": [
    "profit = 0\n",
    "for i in range(30*12):\n",
    "    profit += p_m*math.exp(-2/100/12*i)"
   ]
  },
  {
   "cell_type": "code",
   "execution_count": 90,
   "metadata": {},
   "outputs": [
    {
     "data": {
      "text/plain": [
       "16710.09032647855"
      ]
     },
     "execution_count": 90,
     "metadata": {},
     "output_type": "execute_result"
    }
   ],
   "source": [
    "profit"
   ]
  },
  {
   "cell_type": "code",
   "execution_count": 91,
   "metadata": {},
   "outputs": [
    {
     "data": {
      "text/plain": [
       "20000.0"
      ]
     },
     "execution_count": 91,
     "metadata": {},
     "output_type": "execute_result"
    }
   ],
   "source": [
    "200000*0.1"
   ]
  },
  {
   "cell_type": "code",
   "execution_count": 92,
   "metadata": {
    "collapsed": true
   },
   "outputs": [],
   "source": [
    "#PnL function(Profit and Loss)\n",
    "def expectedPNL(fpr,tpr,fnr,tnr,n):\n",
    "    return n*(fpr*(-1350) + tpr*(-1350) + tnr*(profit-1350) - fnr*(1350+77500*0.1))"
   ]
  },
  {
   "cell_type": "code",
   "execution_count": 93,
   "metadata": {
    "collapsed": true
   },
   "outputs": [],
   "source": [
    "\n",
    "#function to scale population instances based on the ranking: for xlabel\n",
    "def scale_n(pred,thresholds):\n",
    "    row_n = []\n",
    "    row_n.append(0)\n",
    "    pred_list = list(pred)\n",
    "    for t in thresholds[1:]:\n",
    "        row_n.append(sum([1 for x in pred_list if x>=t]))\n",
    "    size_n = [x/len(X_test) for x in row_n]\n",
    "    return size_n"
   ]
  },
  {
   "cell_type": "code",
   "execution_count": 94,
   "metadata": {
    "collapsed": true
   },
   "outputs": [],
   "source": [
    "size_logit = scale_n(logit_pred,thresholds_logit)\n",
    "size_logreg_best = scale_n(logreg_pred,thresholds_logreg)\n",
    "size_svm = scale_n(svm_pred,thresholds_svm)\n",
    "size_svm_best = scale_n(svm_pred_best,thresholds_svm_best)\n",
    "size_dt = scale_n(dt_pred_2,thresholds_dt_2)\n",
    "size_rf= scale_n(best_rf_probs,threshold_rf_best)\n",
    "size_ada = scale_n(y_prob_ada2,threshold_ada2)\n",
    "size_mlp = scale_n(y_prob_mlp2,threshold2)"
   ]
  },
  {
   "cell_type": "code",
   "execution_count": 95,
   "metadata": {
    "collapsed": true
   },
   "outputs": [],
   "source": [
    "#calculate PnL per tpr and fpr\n",
    "PnL_logit = []\n",
    "PnL_logreg = []\n",
    "PnL_svm = []\n",
    "PnL_svm_best = []\n",
    "PnL_base = []\n",
    "PnL_dt = []\n",
    "PnL_rf = []\n",
    "PnL_base_improved = []\n",
    "PnL_ada = []\n",
    "PnL_mlp = []\n",
    "\n",
    "for i in range(len(tpr_logit)):\n",
    "    PnL_logit.append(expectedPNL(fpr_logit[i],tpr_logit[i], 1-tpr_logit[i],1-fpr_logit[i],(size_logit[i])*len(X_test)))\n",
    "    \n",
    "#improved logit\n",
    "for i in range(len(tpr_logreg)):\n",
    "    PnL_logreg.append(expectedPNL(fpr_logreg[i],tpr_logreg[i], 1-tpr_logreg[i],1-fpr_logreg[i],(size_logreg_best[i])*len(X_test)))\n",
    "    \n",
    "for i in range(len(tpr_svm)):\n",
    "    PnL_svm.append(expectedPNL(fpr_svm[i],tpr_svm[i], 1-tpr_svm[i],1-fpr_svm[i], (size_svm[i])*len(X_test)))\n",
    "#svm best grid search\n",
    "for i in range(len(tpr_svm_best)):\n",
    "    PnL_svm_best.append(expectedPNL(fpr_svm_best[i],tpr_svm_best[i], 1-tpr_svm_best[i],1-fpr_svm_best[i], (size_svm_best[i])*len(X_test)))\n",
    "    \n",
    "for i in range(len(tpr_base)):\n",
    "    PnL_base.append(expectedPNL(fpr_base[i],tpr_base[i], 1-tpr_base[i],1-fpr_base[i],(size_pred[i])*len(X_test)))\n",
    "#improved baseline\n",
    "for i in range(len(tpr_base_2)):\n",
    "    PnL_base_improved.append(expectedPNL(fpr_base_2[i],tpr_base_2[i],1-tpr_base_2[i],1-fpr_base_2[i],(n_pred_base_2[i])*len(X_test)))\n",
    "#improved decision tree   \n",
    "for i in range(len(tpr_dt_2)):\n",
    "    PnL_dt.append(expectedPNL(fpr_dt_2[i],tpr_dt_2[i],1-tpr_dt_2[i],1-fpr_dt_2[i],(size_dt[i])*len(X_test)))    \n",
    "for i in range(len(tpr_rf_best)):\n",
    "    PnL_rf.append(expectedPNL(fpr_rf_best[i],tpr_rf_best[i],1-tpr_rf_best[i],1-fpr_rf_best[i],(size_rf[i])*len(X_test)))  \n",
    "#ada   \n",
    "for i in range(len(tpr_ada2)):\n",
    "    PnL_ada.append(expectedPNL(fpr_ada2[i],tpr_ada2[i],1-tpr_ada2[i],1-fpr_ada2[i],(size_ada[i])*len(X_test))) \n",
    "#mlp\n",
    "for i in range(len(tpr_mlp2)):\n",
    "    PnL_mlp.append(expectedPNL(fpr_mlp2[i],tpr_mlp2[i],1-tpr_mlp2[i],1-fpr_mlp2[i],(size_mlp[i])*len(X_test))) "
   ]
  },
  {
   "cell_type": "code",
   "execution_count": 96,
   "metadata": {
    "collapsed": true
   },
   "outputs": [],
   "source": [
    "x_logit = [x for x in size_logit]\n",
    "x_logreg_best = [x for x in size_logreg_best]\n",
    "x_svm = [x for x in size_svm]\n",
    "x_svm_best = [x for x in size_svm_best]\n",
    "x_rf = [x for x in size_rf]\n",
    "x_base = [x for x in size_pred]\n",
    "x_base_2 = [x for x in n_pred_base_2]\n",
    "x_dt = [x for x in size_dt]\n",
    "x_ada = [x for x in size_ada]\n",
    "x_mlp = [x for x in size_mlp]"
   ]
  },
  {
   "cell_type": "code",
   "execution_count": 97,
   "metadata": {
    "scrolled": true
   },
   "outputs": [
    {
     "data": {
      "image/png": "[encoded data removed]",
      "text/plain": [
       "<matplotlib.figure.Figure at 0x120631b00>"
      ]
     },
     "metadata": {},
     "output_type": "display_data"
    }
   ],
   "source": [
    "#plot\n",
    "plt.figure()\n",
    "plt.plot(x_logit, PnL_logit,color='aqua',label='logit')\n",
    "plt.plot(x_logreg_best, PnL_logreg,color='green',label='best logit model')\n",
    "plt.plot(x_svm, PnL_svm,color='darkorange',label='svm')\n",
    "plt.plot(x_svm_best, PnL_svm_best,color='purple',label='best svm')\n",
    "plt.plot(x_rf, PnL_rf,color='brown',label='best random forest')\n",
    "plt.plot(x_base, PnL_base,color='navy',linestyle = \":\",label='baseline model')\n",
    "plt.plot(x_base_2, PnL_base_improved,color='red',linestyle = \":\",label='improved baseline model')\n",
    "plt.plot(x_dt, PnL_dt,color='pink',label='decision trees')\n",
    "plt.plot(x_ada, PnL_ada,color='blue',label='ada booster')\n",
    "plt.plot(x_mlp, PnL_mlp,color='grey',label='Neural Network')\n",
    "plt.xlabel('Percentage of Targeted Customers')\n",
    "plt.ylabel('PNL')\n",
    "plt.title('PNL vs Size Predicted')\n",
    "plt.legend(bbox_to_anchor=(1.05, 1), loc=2, borderaxespad=0.)\n",
    "plt.show()"
   ]
  },
  {
   "cell_type": "code",
   "execution_count": 98,
   "metadata": {},
   "outputs": [
    {
     "name": "stdout",
     "output_type": "stream",
     "text": [
      "The optimal PnL was achieved by:  9\n",
      "The max PnL is:  7882910.54886\n"
     ]
    },
    {
     "data": {
      "text/plain": [
       "[7844512.4779420551,\n",
       " 7844512.4779420551,\n",
       " 7786253.9259133451,\n",
       " 7781875.0283232089,\n",
       " 6698317.8891409095,\n",
       " 7293838.8494181372,\n",
       " 7803859.1592017524,\n",
       " 7170775.3090997115,\n",
       " 7735217.1519273641,\n",
       " 7882910.5488567874]"
      ]
     },
     "execution_count": 98,
     "metadata": {},
     "output_type": "execute_result"
    }
   ],
   "source": [
    "#find the optimal PnL\n",
    "\n",
    "PnL_list = [max(PnL_logit),max(PnL_logreg),max(PnL_svm),max(PnL_svm_best),max(PnL_base),max(PnL_dt),max(PnL_rf),max(PnL_base_improved),max(PnL_ada),max(PnL_mlp)]\n",
    "\n",
    "print(\"The optimal PnL was achieved by: \", PnL_list.index(max(PnL_list)))\n",
    "print(\"The max PnL is: \", max(PnL_list))\n",
    "PnL_list\n",
    "#so neural network gives the optimal PnL"
   ]
  },
  {
   "cell_type": "code",
   "execution_count": 99,
   "metadata": {
    "collapsed": true
   },
   "outputs": [],
   "source": [
    "#zoom in the optimal region, which is roughly between[0.5,0.8] for x\n",
    "#determine the data needed.\n",
    "\n",
    "def zoom(xlist,lower,upper):\n",
    "    n = len(xlist)\n",
    "    a = xlist.index(xlist[int(lower*len(xlist))])\n",
    "    b = xlist.index(xlist[int(upper*len(xlist))])\n",
    "    return [a,b]"
   ]
  },
  {
   "cell_type": "code",
   "execution_count": 100,
   "metadata": {
    "collapsed": true
   },
   "outputs": [],
   "source": [
    "#re-indexing\n",
    "x_logit_zoom = zoom(x_logit,0.5,0.8)\n",
    "x_logreg_zoom = zoom(x_logreg_best,0.5,0.8)\n",
    "x_svm_zoom = zoom(x_svm,0.5,0.8)\n",
    "x_svm_best_zoom = zoom(x_svm_best, 0.5,0.8)\n",
    "x_rf_zoom = zoom(x_rf, 0.5,0.8)\n",
    "x_base_zoom = zoom(x_base,0.5,0.8)\n",
    "x_base_2_zoom = zoom(x_base_2,0.5,0.8)\n",
    "x_dt_zoom = zoom(x_dt,0.5,0.8)\n",
    "x_ada_zoom = zoom(x_ada,0.5,0.8)\n",
    "x_mlp_zoom = zoom(x_mlp,0.5,0.8)"
   ]
  },
  {
   "cell_type": "code",
   "execution_count": 101,
   "metadata": {},
   "outputs": [
    {
     "data": {
      "image/png": "[encoded data removed]",
      "text/plain": [
       "<matplotlib.figure.Figure at 0x119304ac8>"
      ]
     },
     "metadata": {},
     "output_type": "display_data"
    }
   ],
   "source": [
    "plt.figure()\n",
    "plt.plot(x_logit[x_logit_zoom[0]:x_logit_zoom[1]], PnL_logit[x_logit_zoom[0]:x_logit_zoom[1]],color='aqua',label='logit')\n",
    "plt.plot(x_logreg_best[x_logreg_zoom[0]:x_logreg_zoom[1]], PnL_logreg[x_logreg_zoom[0]:x_logreg_zoom[1]],color='green',label='best logit model')\n",
    "plt.plot(x_svm[x_svm_zoom[0]:x_svm_zoom[1]], PnL_svm[x_svm_zoom[0]:x_svm_zoom[1]],color='darkorange',label='svm')\n",
    "plt.plot(x_svm_best[x_svm_best_zoom[0]:x_svm_best_zoom[1]], PnL_svm_best[x_svm_best_zoom[0]:x_svm_best_zoom[1]],color='purple',label='best svm')\n",
    "plt.plot(x_rf[x_rf_zoom[0]:x_rf_zoom[1]], PnL_rf[x_rf_zoom[0]:x_rf_zoom[1]],color='brown',label='best random forest')\n",
    "#plt.plot(x_base[x_base_zoom[0]:x_base_zoom[1]], PnL_base[x_base_zoom[0]:x_base_zoom[1]],color='navy',linestyle = \":\",label='expected profit and cost for baseline model')\n",
    "#plt.plot(x_base_2[x_base_2_zoom[0]:x_base_2_zoom[1]], PnL_base_improved[x_base_2_zoom[0]:x_base_2_zoom[1]],color='red',linestyle = \":\",label='expected profit and cost for improved baseline model')\n",
    "#plt.plot(x_dt[x_dt_zoom[0]:x_dt_zoom[1]], PnL_dt[x_dt_zoom[0]:x_dt_zoom[1]],color='pink',label='expected profit and cost for decision trees')\n",
    "plt.plot(x_ada[x_ada_zoom[0]:x_ada_zoom[1]], PnL_ada[x_ada_zoom[0]:x_ada_zoom[1]],color='blue',label='ada booster')\n",
    "plt.plot(x_mlp[x_mlp_zoom[0]:x_mlp_zoom[1]], PnL_mlp[x_mlp_zoom[0]:x_mlp_zoom[1]],color='grey',label='Neural Network')\n",
    "plt.xlabel('Percentage of Targeted Customers')\n",
    "plt.ylabel('PNL')\n",
    "plt.title('PNL vs Size Predicted (Zoomed)')\n",
    "plt.legend(bbox_to_anchor=(1.05, 1), loc=2, borderaxespad=0.)\n",
    "plt.show()"
   ]
  },
  {
   "cell_type": "markdown",
   "metadata": {},
   "source": [
    "# Measure the tradeoff (for Extra Point!!)\n",
    "between sparse linear model vs. black box model(i.e., what is the cost of explainability) "
   ]
  },
  {
   "cell_type": "code",
   "execution_count": null,
   "metadata": {
    "collapsed": true
   },
   "outputs": [],
   "source": []
  },
  {
   "cell_type": "markdown",
   "metadata": {},
   "source": [
    "### Cluster Analysis"
   ]
  },
  {
   "cell_type": "markdown",
   "metadata": {},
   "source": [
    "- feature engineering\n",
    "- discretization\n",
    "- regularization: solve overfitting\n",
    "- scale(normalization)\n",
    "- cross validation\n",
    "- Grid search to find the optimal hyper-parameter\n",
    "\n",
    "**Reference**: https://community.fico.com/s/explainable-machine-learning-challenge\n"
   ]
  },
  {
   "cell_type": "code",
   "execution_count": null,
   "metadata": {
    "collapsed": true
   },
   "outputs": [],
   "source": []
  }
 ],
 "metadata": {
  "kernelspec": {
   "display_name": "Python 3",
   "language": "python",
   "name": "python3"
  },
  "language_info": {
   "codemirror_mode": {
    "name": "ipython",
    "version": 3
   },
   "file_extension": ".py",
   "mimetype": "text/x-python",
   "name": "python",
   "nbconvert_exporter": "python",
   "pygments_lexer": "ipython3",
   "version": "3.7.1"
  }
 },
 "nbformat": 4,
 "nbformat_minor": 2
}
